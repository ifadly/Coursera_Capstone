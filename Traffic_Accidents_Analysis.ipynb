{
  "nbformat": 4,
  "nbformat_minor": 0,
  "metadata": {
    "kernelspec": {
      "display_name": "Python 3",
      "language": "python",
      "name": "python3"
    },
    "language_info": {
      "codemirror_mode": {
        "name": "ipython",
        "version": 3
      },
      "file_extension": ".py",
      "mimetype": "text/x-python",
      "name": "python",
      "nbconvert_exporter": "python",
      "pygments_lexer": "ipython3",
      "version": "3.7.6"
    },
    "colab": {
      "name": "Traffic Accidents Analysis.ipynb",
      "provenance": [],
      "collapsed_sections": [
        "c8XaLoycbiSk"
      ],
      "toc_visible": true,
      "include_colab_link": true
    }
  },
  "cells": [
    {
      "cell_type": "markdown",
      "metadata": {
        "id": "view-in-github",
        "colab_type": "text"
      },
      "source": [
        "<a href=\"https://colab.research.google.com/github/ifadly/Coursera_Capstone/blob/master/Traffic_Accidents_Analysis.ipynb\" target=\"_parent\"><img src=\"https://colab.research.google.com/assets/colab-badge.svg\" alt=\"Open In Colab\"/></a>"
      ]
    },
    {
      "cell_type": "markdown",
      "metadata": {
        "id": "xzUX8pvsbiRz"
      },
      "source": [
        "# Severity classification of traffic accidents in the UK\n",
        "## Applied data science capstone project"
      ]
    },
    {
      "cell_type": "markdown",
      "metadata": {
        "id": "2y5GUCQNbiR0"
      },
      "source": [
        "### Import libraries"
      ]
    },
    {
      "cell_type": "code",
      "metadata": {
        "scrolled": false,
        "id": "CkPUBMknbiR0"
      },
      "source": [
        "import pandas as pd\n",
        "import numpy as np\n",
        "import matplotlib as mpl\n",
        "import matplotlib.pyplot as plt\n",
        "%matplotlib inline \n",
        "\n",
        "import itertools\n",
        "import matplotlib.pyplot as plt\n",
        "from matplotlib.ticker import NullFormatter\n",
        "import matplotlib.ticker as ticker\n",
        "from sklearn import preprocessing\n",
        "%matplotlib inline"
      ],
      "execution_count": 110,
      "outputs": []
    },
    {
      "cell_type": "markdown",
      "metadata": {
        "id": "NrMHpJu-biR3"
      },
      "source": [
        "### Load dataset\n",
        "Source: https://www.kaggle.com/tsiaras/uk-road-safety-accidents-and-vehicles"
      ]
    },
    {
      "cell_type": "code",
      "metadata": {
        "scrolled": false,
        "id": "NQdXaUasbiR4",
        "outputId": "da99f6ca-d80c-4d14-9082-53207d6ed0d2",
        "colab": {
          "base_uri": "https://localhost:8080/",
          "height": 68
        }
      },
      "source": [
        "dataframe = pd.read_csv(r'/content/Accident_Information.csv')\n",
        "dataframe.shape"
      ],
      "execution_count": 111,
      "outputs": [
        {
          "output_type": "stream",
          "text": [
            "/usr/local/lib/python3.6/dist-packages/IPython/core/interactiveshell.py:2718: DtypeWarning: Columns (0) have mixed types.Specify dtype option on import or set low_memory=False.\n",
            "  interactivity=interactivity, compiler=compiler, result=result)\n"
          ],
          "name": "stderr"
        },
        {
          "output_type": "execute_result",
          "data": {
            "text/plain": [
              "(2047256, 34)"
            ]
          },
          "metadata": {
            "tags": []
          },
          "execution_count": 111
        }
      ]
    },
    {
      "cell_type": "markdown",
      "metadata": {
        "id": "-nkup52YbiR7"
      },
      "source": [
        "### Exploring the dataset"
      ]
    },
    {
      "cell_type": "code",
      "metadata": {
        "scrolled": false,
        "id": "2XIUXKocbiR7",
        "outputId": "badbf432-ef0c-4dee-9a2f-69280d6b4f82",
        "colab": {
          "base_uri": "https://localhost:8080/",
          "height": 326
        }
      },
      "source": [
        "dataframe.head()"
      ],
      "execution_count": 112,
      "outputs": [
        {
          "output_type": "execute_result",
          "data": {
            "text/html": [
              "<div>\n",
              "<style scoped>\n",
              "    .dataframe tbody tr th:only-of-type {\n",
              "        vertical-align: middle;\n",
              "    }\n",
              "\n",
              "    .dataframe tbody tr th {\n",
              "        vertical-align: top;\n",
              "    }\n",
              "\n",
              "    .dataframe thead th {\n",
              "        text-align: right;\n",
              "    }\n",
              "</style>\n",
              "<table border=\"1\" class=\"dataframe\">\n",
              "  <thead>\n",
              "    <tr style=\"text-align: right;\">\n",
              "      <th></th>\n",
              "      <th>Accident_Index</th>\n",
              "      <th>1st_Road_Class</th>\n",
              "      <th>1st_Road_Number</th>\n",
              "      <th>2nd_Road_Class</th>\n",
              "      <th>2nd_Road_Number</th>\n",
              "      <th>Accident_Severity</th>\n",
              "      <th>Carriageway_Hazards</th>\n",
              "      <th>Date</th>\n",
              "      <th>Day_of_Week</th>\n",
              "      <th>Did_Police_Officer_Attend_Scene_of_Accident</th>\n",
              "      <th>Junction_Control</th>\n",
              "      <th>Junction_Detail</th>\n",
              "      <th>Latitude</th>\n",
              "      <th>Light_Conditions</th>\n",
              "      <th>Local_Authority_(District)</th>\n",
              "      <th>Local_Authority_(Highway)</th>\n",
              "      <th>Location_Easting_OSGR</th>\n",
              "      <th>Location_Northing_OSGR</th>\n",
              "      <th>Longitude</th>\n",
              "      <th>LSOA_of_Accident_Location</th>\n",
              "      <th>Number_of_Casualties</th>\n",
              "      <th>Number_of_Vehicles</th>\n",
              "      <th>Pedestrian_Crossing-Human_Control</th>\n",
              "      <th>Pedestrian_Crossing-Physical_Facilities</th>\n",
              "      <th>Police_Force</th>\n",
              "      <th>Road_Surface_Conditions</th>\n",
              "      <th>Road_Type</th>\n",
              "      <th>Special_Conditions_at_Site</th>\n",
              "      <th>Speed_limit</th>\n",
              "      <th>Time</th>\n",
              "      <th>Urban_or_Rural_Area</th>\n",
              "      <th>Weather_Conditions</th>\n",
              "      <th>Year</th>\n",
              "      <th>InScotland</th>\n",
              "    </tr>\n",
              "  </thead>\n",
              "  <tbody>\n",
              "    <tr>\n",
              "      <th>0</th>\n",
              "      <td>200501BS00001</td>\n",
              "      <td>A</td>\n",
              "      <td>3218.0</td>\n",
              "      <td>NaN</td>\n",
              "      <td>0.0</td>\n",
              "      <td>Serious</td>\n",
              "      <td>None</td>\n",
              "      <td>2005-01-04</td>\n",
              "      <td>Tuesday</td>\n",
              "      <td>1.0</td>\n",
              "      <td>Data missing or out of range</td>\n",
              "      <td>Not at junction or within 20 metres</td>\n",
              "      <td>51.489096</td>\n",
              "      <td>Daylight</td>\n",
              "      <td>Kensington and Chelsea</td>\n",
              "      <td>Kensington and Chelsea</td>\n",
              "      <td>525680.0</td>\n",
              "      <td>178240.0</td>\n",
              "      <td>-0.191170</td>\n",
              "      <td>E01002849</td>\n",
              "      <td>1</td>\n",
              "      <td>1</td>\n",
              "      <td>0.0</td>\n",
              "      <td>1.0</td>\n",
              "      <td>Metropolitan Police</td>\n",
              "      <td>Wet or damp</td>\n",
              "      <td>Single carriageway</td>\n",
              "      <td>None</td>\n",
              "      <td>30.0</td>\n",
              "      <td>17:42</td>\n",
              "      <td>Urban</td>\n",
              "      <td>Raining no high winds</td>\n",
              "      <td>2005</td>\n",
              "      <td>No</td>\n",
              "    </tr>\n",
              "    <tr>\n",
              "      <th>1</th>\n",
              "      <td>200501BS00002</td>\n",
              "      <td>B</td>\n",
              "      <td>450.0</td>\n",
              "      <td>C</td>\n",
              "      <td>0.0</td>\n",
              "      <td>Slight</td>\n",
              "      <td>None</td>\n",
              "      <td>2005-01-05</td>\n",
              "      <td>Wednesday</td>\n",
              "      <td>1.0</td>\n",
              "      <td>Auto traffic signal</td>\n",
              "      <td>Crossroads</td>\n",
              "      <td>51.520075</td>\n",
              "      <td>Darkness - lights lit</td>\n",
              "      <td>Kensington and Chelsea</td>\n",
              "      <td>Kensington and Chelsea</td>\n",
              "      <td>524170.0</td>\n",
              "      <td>181650.0</td>\n",
              "      <td>-0.211708</td>\n",
              "      <td>E01002909</td>\n",
              "      <td>1</td>\n",
              "      <td>1</td>\n",
              "      <td>0.0</td>\n",
              "      <td>5.0</td>\n",
              "      <td>Metropolitan Police</td>\n",
              "      <td>Dry</td>\n",
              "      <td>Dual carriageway</td>\n",
              "      <td>None</td>\n",
              "      <td>30.0</td>\n",
              "      <td>17:36</td>\n",
              "      <td>Urban</td>\n",
              "      <td>Fine no high winds</td>\n",
              "      <td>2005</td>\n",
              "      <td>No</td>\n",
              "    </tr>\n",
              "    <tr>\n",
              "      <th>2</th>\n",
              "      <td>200501BS00003</td>\n",
              "      <td>C</td>\n",
              "      <td>0.0</td>\n",
              "      <td>NaN</td>\n",
              "      <td>0.0</td>\n",
              "      <td>Slight</td>\n",
              "      <td>None</td>\n",
              "      <td>2005-01-06</td>\n",
              "      <td>Thursday</td>\n",
              "      <td>1.0</td>\n",
              "      <td>Data missing or out of range</td>\n",
              "      <td>Not at junction or within 20 metres</td>\n",
              "      <td>51.525301</td>\n",
              "      <td>Darkness - lights lit</td>\n",
              "      <td>Kensington and Chelsea</td>\n",
              "      <td>Kensington and Chelsea</td>\n",
              "      <td>524520.0</td>\n",
              "      <td>182240.0</td>\n",
              "      <td>-0.206458</td>\n",
              "      <td>E01002857</td>\n",
              "      <td>1</td>\n",
              "      <td>2</td>\n",
              "      <td>0.0</td>\n",
              "      <td>0.0</td>\n",
              "      <td>Metropolitan Police</td>\n",
              "      <td>Dry</td>\n",
              "      <td>Single carriageway</td>\n",
              "      <td>None</td>\n",
              "      <td>30.0</td>\n",
              "      <td>00:15</td>\n",
              "      <td>Urban</td>\n",
              "      <td>Fine no high winds</td>\n",
              "      <td>2005</td>\n",
              "      <td>No</td>\n",
              "    </tr>\n",
              "    <tr>\n",
              "      <th>3</th>\n",
              "      <td>200501BS00004</td>\n",
              "      <td>A</td>\n",
              "      <td>3220.0</td>\n",
              "      <td>NaN</td>\n",
              "      <td>0.0</td>\n",
              "      <td>Slight</td>\n",
              "      <td>None</td>\n",
              "      <td>2005-01-07</td>\n",
              "      <td>Friday</td>\n",
              "      <td>1.0</td>\n",
              "      <td>Data missing or out of range</td>\n",
              "      <td>Not at junction or within 20 metres</td>\n",
              "      <td>51.482442</td>\n",
              "      <td>Daylight</td>\n",
              "      <td>Kensington and Chelsea</td>\n",
              "      <td>Kensington and Chelsea</td>\n",
              "      <td>526900.0</td>\n",
              "      <td>177530.0</td>\n",
              "      <td>-0.173862</td>\n",
              "      <td>E01002840</td>\n",
              "      <td>1</td>\n",
              "      <td>1</td>\n",
              "      <td>0.0</td>\n",
              "      <td>0.0</td>\n",
              "      <td>Metropolitan Police</td>\n",
              "      <td>Dry</td>\n",
              "      <td>Single carriageway</td>\n",
              "      <td>None</td>\n",
              "      <td>30.0</td>\n",
              "      <td>10:35</td>\n",
              "      <td>Urban</td>\n",
              "      <td>Fine no high winds</td>\n",
              "      <td>2005</td>\n",
              "      <td>No</td>\n",
              "    </tr>\n",
              "    <tr>\n",
              "      <th>4</th>\n",
              "      <td>200501BS00005</td>\n",
              "      <td>Unclassified</td>\n",
              "      <td>0.0</td>\n",
              "      <td>NaN</td>\n",
              "      <td>0.0</td>\n",
              "      <td>Slight</td>\n",
              "      <td>None</td>\n",
              "      <td>2005-01-10</td>\n",
              "      <td>Monday</td>\n",
              "      <td>1.0</td>\n",
              "      <td>Data missing or out of range</td>\n",
              "      <td>Not at junction or within 20 metres</td>\n",
              "      <td>51.495752</td>\n",
              "      <td>Darkness - lighting unknown</td>\n",
              "      <td>Kensington and Chelsea</td>\n",
              "      <td>Kensington and Chelsea</td>\n",
              "      <td>528060.0</td>\n",
              "      <td>179040.0</td>\n",
              "      <td>-0.156618</td>\n",
              "      <td>E01002863</td>\n",
              "      <td>1</td>\n",
              "      <td>1</td>\n",
              "      <td>0.0</td>\n",
              "      <td>0.0</td>\n",
              "      <td>Metropolitan Police</td>\n",
              "      <td>Wet or damp</td>\n",
              "      <td>Single carriageway</td>\n",
              "      <td>None</td>\n",
              "      <td>30.0</td>\n",
              "      <td>21:13</td>\n",
              "      <td>Urban</td>\n",
              "      <td>Fine no high winds</td>\n",
              "      <td>2005</td>\n",
              "      <td>No</td>\n",
              "    </tr>\n",
              "  </tbody>\n",
              "</table>\n",
              "</div>"
            ],
            "text/plain": [
              "  Accident_Index 1st_Road_Class  ...  Year InScotland\n",
              "0  200501BS00001              A  ...  2005         No\n",
              "1  200501BS00002              B  ...  2005         No\n",
              "2  200501BS00003              C  ...  2005         No\n",
              "3  200501BS00004              A  ...  2005         No\n",
              "4  200501BS00005   Unclassified  ...  2005         No\n",
              "\n",
              "[5 rows x 34 columns]"
            ]
          },
          "metadata": {
            "tags": []
          },
          "execution_count": 112
        }
      ]
    },
    {
      "cell_type": "markdown",
      "metadata": {
        "id": "Bp8oOJofbiR9"
      },
      "source": [
        "The data set contains 2,047,256 recorded accidents (rows) and 34 attributes (columns).\n",
        "Below is a list of attributes;"
      ]
    },
    {
      "cell_type": "code",
      "metadata": {
        "scrolled": false,
        "id": "pz2uZ9bzbiR-",
        "outputId": "0640947f-6dbe-444a-9b0a-cec9cd63750c",
        "colab": {
          "base_uri": "https://localhost:8080/",
          "height": 595
        }
      },
      "source": [
        "for i, col in enumerate(dataframe.columns):\n",
        "    print(i+1, '-', col)"
      ],
      "execution_count": 113,
      "outputs": [
        {
          "output_type": "stream",
          "text": [
            "1 - Accident_Index\n",
            "2 - 1st_Road_Class\n",
            "3 - 1st_Road_Number\n",
            "4 - 2nd_Road_Class\n",
            "5 - 2nd_Road_Number\n",
            "6 - Accident_Severity\n",
            "7 - Carriageway_Hazards\n",
            "8 - Date\n",
            "9 - Day_of_Week\n",
            "10 - Did_Police_Officer_Attend_Scene_of_Accident\n",
            "11 - Junction_Control\n",
            "12 - Junction_Detail\n",
            "13 - Latitude\n",
            "14 - Light_Conditions\n",
            "15 - Local_Authority_(District)\n",
            "16 - Local_Authority_(Highway)\n",
            "17 - Location_Easting_OSGR\n",
            "18 - Location_Northing_OSGR\n",
            "19 - Longitude\n",
            "20 - LSOA_of_Accident_Location\n",
            "21 - Number_of_Casualties\n",
            "22 - Number_of_Vehicles\n",
            "23 - Pedestrian_Crossing-Human_Control\n",
            "24 - Pedestrian_Crossing-Physical_Facilities\n",
            "25 - Police_Force\n",
            "26 - Road_Surface_Conditions\n",
            "27 - Road_Type\n",
            "28 - Special_Conditions_at_Site\n",
            "29 - Speed_limit\n",
            "30 - Time\n",
            "31 - Urban_or_Rural_Area\n",
            "32 - Weather_Conditions\n",
            "33 - Year\n",
            "34 - InScotland\n"
          ],
          "name": "stdout"
        }
      ]
    },
    {
      "cell_type": "code",
      "metadata": {
        "id": "LsXPApr6Ii2A",
        "outputId": "b1b843b5-b02b-47e6-8a1c-cf6460d5b127",
        "colab": {
          "base_uri": "https://localhost:8080/",
          "height": 34
        }
      },
      "source": [
        "# For the purpose of this project, we will take a 5% sample of the 2,047,256 recorded accidents (rows) to reduce processing requierments.\n",
        "df=dataframe.sample(frac = 0.05)\n",
        "df.shape"
      ],
      "execution_count": 114,
      "outputs": [
        {
          "output_type": "execute_result",
          "data": {
            "text/plain": [
              "(102363, 34)"
            ]
          },
          "metadata": {
            "tags": []
          },
          "execution_count": 114
        }
      ]
    },
    {
      "cell_type": "markdown",
      "metadata": {
        "id": "LRTlK1cObiSA"
      },
      "source": [
        "Data type for each column"
      ]
    },
    {
      "cell_type": "code",
      "metadata": {
        "scrolled": false,
        "id": "-lwHMuzybiSB",
        "outputId": "38a88286-df9e-43bd-c900-e1b107a8c97e",
        "colab": {
          "base_uri": "https://localhost:8080/",
          "height": 612
        }
      },
      "source": [
        "df.dtypes"
      ],
      "execution_count": 115,
      "outputs": [
        {
          "output_type": "execute_result",
          "data": {
            "text/plain": [
              "Accident_Index                                  object\n",
              "1st_Road_Class                                  object\n",
              "1st_Road_Number                                float64\n",
              "2nd_Road_Class                                  object\n",
              "2nd_Road_Number                                float64\n",
              "Accident_Severity                               object\n",
              "Carriageway_Hazards                             object\n",
              "Date                                            object\n",
              "Day_of_Week                                     object\n",
              "Did_Police_Officer_Attend_Scene_of_Accident    float64\n",
              "Junction_Control                                object\n",
              "Junction_Detail                                 object\n",
              "Latitude                                       float64\n",
              "Light_Conditions                                object\n",
              "Local_Authority_(District)                      object\n",
              "Local_Authority_(Highway)                       object\n",
              "Location_Easting_OSGR                          float64\n",
              "Location_Northing_OSGR                         float64\n",
              "Longitude                                      float64\n",
              "LSOA_of_Accident_Location                       object\n",
              "Number_of_Casualties                             int64\n",
              "Number_of_Vehicles                               int64\n",
              "Pedestrian_Crossing-Human_Control              float64\n",
              "Pedestrian_Crossing-Physical_Facilities        float64\n",
              "Police_Force                                    object\n",
              "Road_Surface_Conditions                         object\n",
              "Road_Type                                       object\n",
              "Special_Conditions_at_Site                      object\n",
              "Speed_limit                                    float64\n",
              "Time                                            object\n",
              "Urban_or_Rural_Area                             object\n",
              "Weather_Conditions                              object\n",
              "Year                                             int64\n",
              "InScotland                                      object\n",
              "dtype: object"
            ]
          },
          "metadata": {
            "tags": []
          },
          "execution_count": 115
        }
      ]
    },
    {
      "cell_type": "markdown",
      "metadata": {
        "id": "HsKZDhfcbiSD"
      },
      "source": [
        "Columns with missing data"
      ]
    },
    {
      "cell_type": "code",
      "metadata": {
        "scrolled": false,
        "id": "AWb5jZ8xbiSD",
        "outputId": "adb5169c-1225-4605-e8c9-089a426393d2",
        "colab": {
          "base_uri": "https://localhost:8080/",
          "height": 612
        }
      },
      "source": [
        "df.isnull().sum()"
      ],
      "execution_count": 116,
      "outputs": [
        {
          "output_type": "execute_result",
          "data": {
            "text/plain": [
              "Accident_Index                                     0\n",
              "1st_Road_Class                                     0\n",
              "1st_Road_Number                                    0\n",
              "2nd_Road_Class                                 42104\n",
              "2nd_Road_Number                                  856\n",
              "Accident_Severity                                  0\n",
              "Carriageway_Hazards                                0\n",
              "Date                                               0\n",
              "Day_of_Week                                        0\n",
              "Did_Police_Officer_Attend_Scene_of_Accident       12\n",
              "Junction_Control                                   0\n",
              "Junction_Detail                                    0\n",
              "Latitude                                           9\n",
              "Light_Conditions                                   0\n",
              "Local_Authority_(District)                         0\n",
              "Local_Authority_(Highway)                          0\n",
              "Location_Easting_OSGR                              9\n",
              "Location_Northing_OSGR                             9\n",
              "Longitude                                          9\n",
              "LSOA_of_Accident_Location                       7131\n",
              "Number_of_Casualties                               0\n",
              "Number_of_Vehicles                                 0\n",
              "Pedestrian_Crossing-Human_Control                154\n",
              "Pedestrian_Crossing-Physical_Facilities          191\n",
              "Police_Force                                       0\n",
              "Road_Surface_Conditions                            0\n",
              "Road_Type                                          0\n",
              "Special_Conditions_at_Site                         0\n",
              "Speed_limit                                        2\n",
              "Time                                               9\n",
              "Urban_or_Rural_Area                                0\n",
              "Weather_Conditions                                 0\n",
              "Year                                               0\n",
              "InScotland                                         2\n",
              "dtype: int64"
            ]
          },
          "metadata": {
            "tags": []
          },
          "execution_count": 116
        }
      ]
    },
    {
      "cell_type": "markdown",
      "metadata": {
        "id": "qtgCDiHNbiSH"
      },
      "source": [
        "A quick look at the distribution of some attributes."
      ]
    },
    {
      "cell_type": "code",
      "metadata": {
        "scrolled": false,
        "id": "nQKFczHSbiSH",
        "outputId": "25fa748e-55a5-4842-b741-dd882616d23f",
        "colab": {
          "base_uri": "https://localhost:8080/",
          "height": 282
        }
      },
      "source": [
        "df.Accident_Severity.hist()"
      ],
      "execution_count": 117,
      "outputs": [
        {
          "output_type": "execute_result",
          "data": {
            "text/plain": [
              "<matplotlib.axes._subplots.AxesSubplot at 0x7fc31f5366d8>"
            ]
          },
          "metadata": {
            "tags": []
          },
          "execution_count": 117
        },
        {
          "output_type": "display_data",
          "data": {
            "image/png": "[encoded data removed]",
            "text/plain": [
              "<Figure size 432x288 with 1 Axes>"
            ]
          },
          "metadata": {
            "tags": [],
            "needs_background": "light"
          }
        }
      ]
    },
    {
      "cell_type": "markdown",
      "metadata": {
        "id": "-k4W24hRbiSJ"
      },
      "source": [
        "The dataset is obviously imbalanced..."
      ]
    },
    {
      "cell_type": "code",
      "metadata": {
        "scrolled": false,
        "id": "FVrCnZWibiSK",
        "outputId": "e6330d0b-5c1c-40d3-e548-379837a8c41e",
        "colab": {
          "base_uri": "https://localhost:8080/",
          "height": 85
        }
      },
      "source": [
        "df.Accident_Severity.value_counts(normalize=True)"
      ],
      "execution_count": 118,
      "outputs": [
        {
          "output_type": "execute_result",
          "data": {
            "text/plain": [
              "Slight     0.848881\n",
              "Serious    0.138419\n",
              "Fatal      0.012700\n",
              "Name: Accident_Severity, dtype: float64"
            ]
          },
          "metadata": {
            "tags": []
          },
          "execution_count": 118
        }
      ]
    },
    {
      "cell_type": "code",
      "metadata": {
        "scrolled": false,
        "id": "ym-GtzcxbiSM",
        "outputId": "f1930be4-c2c4-4cb6-bc54-9f59d0bd4f59",
        "colab": {
          "base_uri": "https://localhost:8080/",
          "height": 153
        }
      },
      "source": [
        "df.Carriageway_Hazards.value_counts(normalize=True)"
      ],
      "execution_count": 119,
      "outputs": [
        {
          "output_type": "execute_result",
          "data": {
            "text/plain": [
              "None                                               0.980735\n",
              "Other object on road                               0.007434\n",
              "Any animal in carriageway (except ridden horse)    0.005324\n",
              "Pedestrian in carriageway - not injured            0.002286\n",
              "Previous accident                                  0.001553\n",
              "Data missing or out of range                       0.001475\n",
              "Vehicle load on road                               0.001192\n",
              "Name: Carriageway_Hazards, dtype: float64"
            ]
          },
          "metadata": {
            "tags": []
          },
          "execution_count": 119
        }
      ]
    },
    {
      "cell_type": "code",
      "metadata": {
        "scrolled": false,
        "id": "APrsCwYYbiSO",
        "outputId": "6a92b552-ad25-4fee-b957-b33398cf33a4",
        "colab": {
          "base_uri": "https://localhost:8080/",
          "height": 638
        }
      },
      "source": [
        "\n",
        "df.Carriageway_Hazards.value_counts().plot(kind='bar', figsize=(10, 6))\n",
        "    \n",
        "plt.xlabel('Carriageway Hazards')\n",
        "plt.ylabel('Number of accidents')\n",
        "plt.title('Distribution of Carriageway hazards')\n",
        "plt.show()"
      ],
      "execution_count": 120,
      "outputs": [
        {
          "output_type": "display_data",
          "data": {
            "image/png": "[encoded data removed]",
            "text/plain": [
              "<Figure size 720x432 with 1 Axes>"
            ]
          },
          "metadata": {
            "tags": [],
            "needs_background": "light"
          }
        }
      ]
    },
    {
      "cell_type": "markdown",
      "metadata": {
        "id": "A3aZWKSWbiSQ"
      },
      "source": [
        "Carriageway Hazards does not seem to be a contributing factor towards \"Accident Severity\" as 98% of accidents happened in the absence of any hazards."
      ]
    },
    {
      "cell_type": "code",
      "metadata": {
        "scrolled": false,
        "id": "B990TWrIbiSQ",
        "outputId": "04573d31-1261-4a24-e44c-d9d35775bb5d",
        "colab": {
          "base_uri": "https://localhost:8080/",
          "height": 588
        }
      },
      "source": [
        "print(df.Day_of_Week.value_counts(normalize=True))\n",
        "df.Day_of_Week.value_counts().plot(kind='bar', figsize=(10, 6))\n",
        "    \n",
        "plt.xlabel('Week day')\n",
        "plt.ylabel('Number of accidents')\n",
        "plt.title('Accidents by day of the week')\n",
        "plt.show()\n"
      ],
      "execution_count": 121,
      "outputs": [
        {
          "output_type": "stream",
          "text": [
            "Friday       0.163350\n",
            "Tuesday      0.151705\n",
            "Wednesday    0.151256\n",
            "Thursday     0.147983\n",
            "Monday       0.140422\n",
            "Saturday     0.133349\n",
            "Sunday       0.111935\n",
            "Name: Day_of_Week, dtype: float64\n"
          ],
          "name": "stdout"
        },
        {
          "output_type": "display_data",
          "data": {
            "image/png": "[encoded data removed]",
            "text/plain": [
              "<Figure size 720x432 with 1 Axes>"
            ]
          },
          "metadata": {
            "tags": [],
            "needs_background": "light"
          }
        }
      ]
    },
    {
      "cell_type": "markdown",
      "metadata": {
        "id": "Cq9OjhjTeqiS"
      },
      "source": [
        "Friday has the highst share of accidents, with Sunday being the least"
      ]
    },
    {
      "cell_type": "code",
      "metadata": {
        "scrolled": false,
        "id": "n5k7EFlPbiSS",
        "outputId": "0649d12c-5ec1-4209-89c4-46eb3e528f69",
        "colab": {
          "base_uri": "https://localhost:8080/",
          "height": 688
        }
      },
      "source": [
        "print(df.Junction_Control.value_counts(normalize=True))\n",
        "df.Junction_Control.value_counts().plot(kind='bar', figsize=(10, 6))\n",
        "    \n",
        "plt.xlabel('Junction Control')\n",
        "plt.ylabel('Number of accidents')\n",
        "plt.title('Junction Control')\n",
        "plt.show()"
      ],
      "execution_count": 122,
      "outputs": [
        {
          "output_type": "stream",
          "text": [
            "Give way or uncontrolled               0.483094\n",
            "Data missing or out of range           0.368092\n",
            "Auto traffic signal                    0.103553\n",
            "Not at junction or within 20 metres    0.037338\n",
            "Stop sign                              0.006047\n",
            "Authorised person                      0.001876\n",
            "Name: Junction_Control, dtype: float64\n"
          ],
          "name": "stdout"
        },
        {
          "output_type": "display_data",
          "data": {
            "image/png": "[encoded data removed]",
            "text/plain": [
              "<Figure size 720x432 with 1 Axes>"
            ]
          },
          "metadata": {
            "tags": [],
            "needs_background": "light"
          }
        }
      ]
    },
    {
      "cell_type": "markdown",
      "metadata": {
        "id": "ZBlduOYJbiSV"
      },
      "source": [
        "Around 37% of Junction Control data is missing"
      ]
    },
    {
      "cell_type": "code",
      "metadata": {
        "id": "8who0rA-hpjM",
        "outputId": "2c646299-95e0-41ac-9a1f-dd9898e80785",
        "colab": {
          "base_uri": "https://localhost:8080/",
          "height": 757
        }
      },
      "source": [
        "\n",
        "print(df.Junction_Detail.value_counts(normalize=True))\n",
        "df.Junction_Detail.value_counts().plot(kind='bar', figsize=(10, 6))\n",
        "    \n",
        "plt.xlabel('Junction Details')\n",
        "plt.ylabel('Number of accidents')\n",
        "plt.title('Junction Details')\n",
        "plt.show()"
      ],
      "execution_count": 123,
      "outputs": [
        {
          "output_type": "stream",
          "text": [
            "Not at junction or within 20 metres    0.403329\n",
            "T or staggered junction                0.311275\n",
            "Crossroads                             0.096226\n",
            "Roundabout                             0.086731\n",
            "Private drive or entrance              0.034925\n",
            "Other junction                         0.029053\n",
            "Slip road                              0.014634\n",
            "More than 4 arms (not roundabout)      0.012368\n",
            "Mini-roundabout                        0.011078\n",
            "Data missing or out of range           0.000381\n",
            "Name: Junction_Detail, dtype: float64\n"
          ],
          "name": "stdout"
        },
        {
          "output_type": "display_data",
          "data": {
            "image/png": "[encoded data removed]",
            "text/plain": [
              "<Figure size 720x432 with 1 Axes>"
            ]
          },
          "metadata": {
            "tags": [],
            "needs_background": "light"
          }
        }
      ]
    },
    {
      "cell_type": "code",
      "metadata": {
        "scrolled": false,
        "id": "llLiThHhbiSV",
        "outputId": "65844801-2c9b-45cd-ff52-929b3b643e5c",
        "colab": {
          "base_uri": "https://localhost:8080/",
          "height": 724
        }
      },
      "source": [
        "print(df.Weather_Conditions.value_counts(normalize=True))\n",
        "df.Weather_Conditions.value_counts().plot(kind='bar', figsize=(10, 6))\n",
        "    \n",
        "plt.xlabel('Weather Conditions')\n",
        "plt.ylabel('Number of accidents')\n",
        "plt.title('Weather Conditions')\n",
        "plt.show()"
      ],
      "execution_count": 124,
      "outputs": [
        {
          "output_type": "stream",
          "text": [
            "Fine no high winds              0.800572\n",
            "Raining no high winds           0.117513\n",
            "Other                           0.021199\n",
            "Unknown                         0.020984\n",
            "Raining + high winds            0.013706\n",
            "Fine + high winds               0.012680\n",
            "Snowing no high winds           0.006438\n",
            "Fog or mist                     0.005725\n",
            "Snowing + high winds            0.001094\n",
            "Data missing or out of range    0.000088\n",
            "Name: Weather_Conditions, dtype: float64\n"
          ],
          "name": "stdout"
        },
        {
          "output_type": "display_data",
          "data": {
            "image/png": "[encoded data removed]",
            "text/plain": [
              "<Figure size 720x432 with 1 Axes>"
            ]
          },
          "metadata": {
            "tags": [],
            "needs_background": "light"
          }
        }
      ]
    },
    {
      "cell_type": "markdown",
      "metadata": {
        "id": "XnvhE6mGbiSX"
      },
      "source": [
        "80% of recorded accidents occured in good weather, and almost 12% during times of high wind with no rain "
      ]
    },
    {
      "cell_type": "code",
      "metadata": {
        "scrolled": false,
        "id": "cwvoEe2SbiSY",
        "outputId": "23f14d74-c023-4b98-d9d5-3c33c6201cae",
        "colab": {
          "base_uri": "https://localhost:8080/",
          "height": 782
        }
      },
      "source": [
        "print(df.Special_Conditions_at_Site.value_counts(normalize=True))\n",
        "df.Special_Conditions_at_Site.value_counts().plot(kind='bar', figsize=(10, 6))\n",
        "    \n",
        "plt.xlabel('Special Conditions')\n",
        "plt.ylabel('Number of accidents')\n",
        "plt.title('Special Conditions')\n",
        "plt.show()"
      ],
      "execution_count": 125,
      "outputs": [
        {
          "output_type": "stream",
          "text": [
            "None                                          0.975157\n",
            "Roadworks                                     0.010951\n",
            "Oil or diesel                                 0.003351\n",
            "Mud                                           0.003087\n",
            "Road surface defective                        0.002335\n",
            "Auto traffic signal - out                     0.001876\n",
            "Road sign or marking defective or obscured    0.001426\n",
            "Data missing or out of range                  0.001397\n",
            "Auto signal part defective                    0.000420\n",
            "Name: Special_Conditions_at_Site, dtype: float64\n"
          ],
          "name": "stdout"
        },
        {
          "output_type": "display_data",
          "data": {
            "image/png": "[encoded data removed]",
            "text/plain": [
              "<Figure size 720x432 with 1 Axes>"
            ]
          },
          "metadata": {
            "tags": [],
            "needs_background": "light"
          }
        }
      ]
    },
    {
      "cell_type": "markdown",
      "metadata": {
        "id": "u61XmwrFbiSZ"
      },
      "source": [
        "More than 97% of accidents took place in normal conditions (absence of oil spils, roadworks, defects in road surface, etc.)"
      ]
    },
    {
      "cell_type": "code",
      "metadata": {
        "scrolled": false,
        "id": "U__6ZPBobiSa",
        "outputId": "e3bbdb4c-a2e2-46c3-dede-9be3f69e8f25",
        "colab": {
          "base_uri": "https://localhost:8080/",
          "height": 522
        }
      },
      "source": [
        "print(df.Urban_or_Rural_Area.value_counts(normalize=True))\n",
        "df.Urban_or_Rural_Area.value_counts().plot(kind='bar', figsize=(10, 6))\n",
        "    \n",
        "plt.xlabel('Area')\n",
        "plt.ylabel('Number of accidents')\n",
        "plt.title('Accidents by location')\n",
        "plt.show()"
      ],
      "execution_count": 126,
      "outputs": [
        {
          "output_type": "stream",
          "text": [
            "Urban          0.644881\n",
            "Rural          0.355031\n",
            "Unallocated    0.000088\n",
            "Name: Urban_or_Rural_Area, dtype: float64\n"
          ],
          "name": "stdout"
        },
        {
          "output_type": "display_data",
          "data": {
            "image/png": "[encoded data removed]",
            "text/plain": [
              "<Figure size 720x432 with 1 Axes>"
            ]
          },
          "metadata": {
            "tags": [],
            "needs_background": "light"
          }
        }
      ]
    },
    {
      "cell_type": "markdown",
      "metadata": {
        "id": "dEJXbrEqf8pw"
      },
      "source": [
        "Almost 65% of recorded accidents took place in urban areas, and around 35% in rural areas. "
      ]
    },
    {
      "cell_type": "code",
      "metadata": {
        "scrolled": false,
        "id": "eWEmvZctbiSc",
        "outputId": "f597339f-4e7c-46eb-94d5-99de6d18c80b",
        "colab": {
          "base_uri": "https://localhost:8080/",
          "height": 639
        }
      },
      "source": [
        "print(df.Light_Conditions.value_counts(normalize=True))\n",
        "df.Light_Conditions.value_counts().plot(kind='bar', figsize=(10, 6))\n",
        "    \n",
        "plt.xlabel('Light Conditions')\n",
        "plt.ylabel('Number of accidents')\n",
        "plt.title('Light Conditions')\n",
        "plt.show()"
      ],
      "execution_count": 127,
      "outputs": [
        {
          "output_type": "stream",
          "text": [
            "Daylight                       0.730176\n",
            "Darkness - lights lit          0.196546\n",
            "Darkness - no lighting         0.055606\n",
            "Darkness - lighting unknown    0.012817\n",
            "Darkness - lights unlit        0.004855\n",
            "Name: Light_Conditions, dtype: float64\n"
          ],
          "name": "stdout"
        },
        {
          "output_type": "display_data",
          "data": {
            "image/png": "[encoded data removed]",
            "text/plain": [
              "<Figure size 720x432 with 1 Axes>"
            ]
          },
          "metadata": {
            "tags": [],
            "needs_background": "light"
          }
        }
      ]
    },
    {
      "cell_type": "markdown",
      "metadata": {
        "id": "-_9Axa5TbiSf"
      },
      "source": [
        "73% of accidents took place in day light, with almost 26% taking place under darkness or limited/artificial lighting"
      ]
    },
    {
      "cell_type": "markdown",
      "metadata": {
        "id": "c8XaLoycbiSk"
      },
      "source": [
        "### Data cleaning and wrangling"
      ]
    },
    {
      "cell_type": "markdown",
      "metadata": {
        "id": "PyRPetRWbiSk"
      },
      "source": [
        "### Assumptions:"
      ]
    },
    {
      "cell_type": "markdown",
      "metadata": {
        "id": "n-6n2vGvbiSk"
      },
      "source": [
        "Since the objective of this project is to predict the severity of an accident, represented in column \"5\" in 3 categories, namely (Slight, Serious and Fatal).\n",
        "The following are a set of assumptions made to serve the objective and simplify the dataset.\n",
        "\n",
        "A. Some attributes are assumed to have impact on accident severity, thus, a dataframe will be created using the following attributes;\n",
        "\n",
        "\n",
        "    - Accident_Severity\n",
        "    - Date\n",
        "    - Day_of_Week\n",
        "    - Junction_Control\n",
        "    - Junction_Detail\n",
        "    - Light_Conditions\n",
        "    - Road_Surface_Conditions\n",
        "    - Road_Type\n",
        "    - Speed_limit\n",
        "    - Urban_or_Rural_Area\n",
        "    - Weather_Conditions\n",
        "\n",
        "\n",
        "B. Light condition will be used to determine the time of the day (Day or Night)  \n",
        "    "
      ]
    },
    {
      "cell_type": "code",
      "metadata": {
        "scrolled": false,
        "id": "sakEdng5biSo",
        "outputId": "d6efa105-4bec-4e60-e05c-9033f55a6bb3",
        "colab": {
          "base_uri": "https://localhost:8080/",
          "height": 306
        }
      },
      "source": [
        "accidents_df=df[['Accident_Severity','Date','Day_of_Week','Junction_Control','Junction_Detail','Light_Conditions','Road_Surface_Conditions','Road_Type','Speed_limit','Urban_or_Rural_Area','Weather_Conditions']]\n",
        "print(accidents_df.shape)\n",
        "accidents_df.head()"
      ],
      "execution_count": 128,
      "outputs": [
        {
          "output_type": "stream",
          "text": [
            "(102363, 11)\n"
          ],
          "name": "stdout"
        },
        {
          "output_type": "execute_result",
          "data": {
            "text/html": [
              "<div>\n",
              "<style scoped>\n",
              "    .dataframe tbody tr th:only-of-type {\n",
              "        vertical-align: middle;\n",
              "    }\n",
              "\n",
              "    .dataframe tbody tr th {\n",
              "        vertical-align: top;\n",
              "    }\n",
              "\n",
              "    .dataframe thead th {\n",
              "        text-align: right;\n",
              "    }\n",
              "</style>\n",
              "<table border=\"1\" class=\"dataframe\">\n",
              "  <thead>\n",
              "    <tr style=\"text-align: right;\">\n",
              "      <th></th>\n",
              "      <th>Accident_Severity</th>\n",
              "      <th>Date</th>\n",
              "      <th>Day_of_Week</th>\n",
              "      <th>Junction_Control</th>\n",
              "      <th>Junction_Detail</th>\n",
              "      <th>Light_Conditions</th>\n",
              "      <th>Road_Surface_Conditions</th>\n",
              "      <th>Road_Type</th>\n",
              "      <th>Speed_limit</th>\n",
              "      <th>Urban_or_Rural_Area</th>\n",
              "      <th>Weather_Conditions</th>\n",
              "    </tr>\n",
              "  </thead>\n",
              "  <tbody>\n",
              "    <tr>\n",
              "      <th>601887</th>\n",
              "      <td>Slight</td>\n",
              "      <td>2008-01-21</td>\n",
              "      <td>Monday</td>\n",
              "      <td>Give way or uncontrolled</td>\n",
              "      <td>T or staggered junction</td>\n",
              "      <td>Darkness - lights lit</td>\n",
              "      <td>Wet or damp</td>\n",
              "      <td>Single carriageway</td>\n",
              "      <td>30.0</td>\n",
              "      <td>Urban</td>\n",
              "      <td>Raining no high winds</td>\n",
              "    </tr>\n",
              "    <tr>\n",
              "      <th>674910</th>\n",
              "      <td>Slight</td>\n",
              "      <td>2008-05-09</td>\n",
              "      <td>Friday</td>\n",
              "      <td>Not at junction or within 20 metres</td>\n",
              "      <td>Not at junction or within 20 metres</td>\n",
              "      <td>Daylight</td>\n",
              "      <td>Dry</td>\n",
              "      <td>Single carriageway</td>\n",
              "      <td>60.0</td>\n",
              "      <td>Rural</td>\n",
              "      <td>Fine no high winds</td>\n",
              "    </tr>\n",
              "    <tr>\n",
              "      <th>963623</th>\n",
              "      <td>Slight</td>\n",
              "      <td>2010-11-16</td>\n",
              "      <td>Tuesday</td>\n",
              "      <td>Give way or uncontrolled</td>\n",
              "      <td>T or staggered junction</td>\n",
              "      <td>Daylight</td>\n",
              "      <td>Dry</td>\n",
              "      <td>Single carriageway</td>\n",
              "      <td>30.0</td>\n",
              "      <td>Rural</td>\n",
              "      <td>Fine no high winds</td>\n",
              "    </tr>\n",
              "    <tr>\n",
              "      <th>654829</th>\n",
              "      <td>Slight</td>\n",
              "      <td>2008-11-25</td>\n",
              "      <td>Tuesday</td>\n",
              "      <td>Give way or uncontrolled</td>\n",
              "      <td>Crossroads</td>\n",
              "      <td>Daylight</td>\n",
              "      <td>Dry</td>\n",
              "      <td>Single carriageway</td>\n",
              "      <td>30.0</td>\n",
              "      <td>Urban</td>\n",
              "      <td>Fine no high winds</td>\n",
              "    </tr>\n",
              "    <tr>\n",
              "      <th>1464663</th>\n",
              "      <td>Slight</td>\n",
              "      <td>2013-02-19</td>\n",
              "      <td>Tuesday</td>\n",
              "      <td>Give way or uncontrolled</td>\n",
              "      <td>Private drive or entrance</td>\n",
              "      <td>Daylight</td>\n",
              "      <td>Dry</td>\n",
              "      <td>Single carriageway</td>\n",
              "      <td>40.0</td>\n",
              "      <td>Rural</td>\n",
              "      <td>Fine no high winds</td>\n",
              "    </tr>\n",
              "  </tbody>\n",
              "</table>\n",
              "</div>"
            ],
            "text/plain": [
              "        Accident_Severity  ...     Weather_Conditions\n",
              "601887             Slight  ...  Raining no high winds\n",
              "674910             Slight  ...     Fine no high winds\n",
              "963623             Slight  ...     Fine no high winds\n",
              "654829             Slight  ...     Fine no high winds\n",
              "1464663            Slight  ...     Fine no high winds\n",
              "\n",
              "[5 rows x 11 columns]"
            ]
          },
          "metadata": {
            "tags": []
          },
          "execution_count": 128
        }
      ]
    },
    {
      "cell_type": "markdown",
      "metadata": {
        "id": "BxXIPYkFbiSq"
      },
      "source": [
        "The number of attributes is now reduced to 11.\n",
        "Since we have abundance of records, lets remove all rows with missing data"
      ]
    },
    {
      "cell_type": "code",
      "metadata": {
        "scrolled": false,
        "id": "cAgUgJQ4biSq",
        "outputId": "cca0bdc5-fe08-4392-c15e-df4bc94eb0a2",
        "colab": {
          "base_uri": "https://localhost:8080/",
          "height": 306
        }
      },
      "source": [
        "# First we will replace all occurances of 'Data missing or out of range', 'Unallocated' or 'Unknown' with NaN\n",
        "accidents_df.replace(to_replace=['Data missing or out of range'], value=np.nan, inplace=True)\n",
        "accidents_df.replace(to_replace=['Unknown'], value=np.nan, inplace=True)\n",
        "accidents_df.replace(to_replace=['Unallocated'], value=np.nan, inplace=True)\n",
        "\n",
        "# How many missing values do we have?\n",
        "accidents_df.isnull().sum()"
      ],
      "execution_count": 129,
      "outputs": [
        {
          "output_type": "stream",
          "text": [
            "/usr/local/lib/python3.6/dist-packages/pandas/core/frame.py:4384: SettingWithCopyWarning: \n",
            "A value is trying to be set on a copy of a slice from a DataFrame\n",
            "\n",
            "See the caveats in the documentation: https://pandas.pydata.org/pandas-docs/stable/user_guide/indexing.html#returning-a-view-versus-a-copy\n",
            "  method=method,\n"
          ],
          "name": "stderr"
        },
        {
          "output_type": "execute_result",
          "data": {
            "text/plain": [
              "Accident_Severity              0\n",
              "Date                           0\n",
              "Day_of_Week                    0\n",
              "Junction_Control           37679\n",
              "Junction_Detail               39\n",
              "Light_Conditions               0\n",
              "Road_Surface_Conditions      300\n",
              "Road_Type                    739\n",
              "Speed_limit                    2\n",
              "Urban_or_Rural_Area            9\n",
              "Weather_Conditions          2157\n",
              "dtype: int64"
            ]
          },
          "metadata": {
            "tags": []
          },
          "execution_count": 129
        }
      ]
    },
    {
      "cell_type": "code",
      "metadata": {
        "scrolled": false,
        "id": "69EgLY5BbiSs",
        "outputId": "f503c0ab-a4f3-44d5-991a-9b5663f38396",
        "colab": {
          "base_uri": "https://localhost:8080/",
          "height": 306
        }
      },
      "source": [
        "# Next we drop all rows containing NaN values\n",
        "accidents_df.dropna (axis = 0, inplace = True)\n",
        "\n",
        "# Check to confirm all missing data has been removed\n",
        "accidents_df.isnull().sum()"
      ],
      "execution_count": 130,
      "outputs": [
        {
          "output_type": "stream",
          "text": [
            "/usr/local/lib/python3.6/dist-packages/ipykernel_launcher.py:2: SettingWithCopyWarning: \n",
            "A value is trying to be set on a copy of a slice from a DataFrame\n",
            "\n",
            "See the caveats in the documentation: https://pandas.pydata.org/pandas-docs/stable/user_guide/indexing.html#returning-a-view-versus-a-copy\n",
            "  \n"
          ],
          "name": "stderr"
        },
        {
          "output_type": "execute_result",
          "data": {
            "text/plain": [
              "Accident_Severity          0\n",
              "Date                       0\n",
              "Day_of_Week                0\n",
              "Junction_Control           0\n",
              "Junction_Detail            0\n",
              "Light_Conditions           0\n",
              "Road_Surface_Conditions    0\n",
              "Road_Type                  0\n",
              "Speed_limit                0\n",
              "Urban_or_Rural_Area        0\n",
              "Weather_Conditions         0\n",
              "dtype: int64"
            ]
          },
          "metadata": {
            "tags": []
          },
          "execution_count": 130
        }
      ]
    },
    {
      "cell_type": "code",
      "metadata": {
        "scrolled": false,
        "id": "Pf0dR3CcbiSu",
        "outputId": "79a5df7c-6c5b-48e7-8294-856de633b5a9",
        "colab": {
          "base_uri": "https://localhost:8080/",
          "height": 34
        }
      },
      "source": [
        "# Now we have a data frame with around 63 thousand records\n",
        "accidents_df.shape"
      ],
      "execution_count": 131,
      "outputs": [
        {
          "output_type": "execute_result",
          "data": {
            "text/plain": [
              "(63036, 11)"
            ]
          },
          "metadata": {
            "tags": []
          },
          "execution_count": 131
        }
      ]
    },
    {
      "cell_type": "code",
      "metadata": {
        "id": "8SdyZOgtbiSw",
        "outputId": "bfd44f34-b2d6-4a65-e13d-bed6c9bad1fa",
        "colab": {
          "base_uri": "https://localhost:8080/",
          "height": 221
        }
      },
      "source": [
        "# How are the data types like?\n",
        "accidents_df.dtypes"
      ],
      "execution_count": 132,
      "outputs": [
        {
          "output_type": "execute_result",
          "data": {
            "text/plain": [
              "Accident_Severity           object\n",
              "Date                        object\n",
              "Day_of_Week                 object\n",
              "Junction_Control            object\n",
              "Junction_Detail             object\n",
              "Light_Conditions            object\n",
              "Road_Surface_Conditions     object\n",
              "Road_Type                   object\n",
              "Speed_limit                float64\n",
              "Urban_or_Rural_Area         object\n",
              "Weather_Conditions          object\n",
              "dtype: object"
            ]
          },
          "metadata": {
            "tags": []
          },
          "execution_count": 132
        }
      ]
    },
    {
      "cell_type": "code",
      "metadata": {
        "id": "qwIAzirEbiSy",
        "outputId": "3817eaca-3adc-4d0d-bc39-b17c841f6e74",
        "colab": {
          "base_uri": "https://localhost:8080/",
          "height": 323
        }
      },
      "source": [
        "# We need to fix the date and time data type\n",
        "accidents_df['Date'] = pd.to_datetime(accidents_df.Date)\n",
        "\n",
        "accidents_df.dtypes"
      ],
      "execution_count": 133,
      "outputs": [
        {
          "output_type": "stream",
          "text": [
            "/usr/local/lib/python3.6/dist-packages/ipykernel_launcher.py:2: SettingWithCopyWarning: \n",
            "A value is trying to be set on a copy of a slice from a DataFrame.\n",
            "Try using .loc[row_indexer,col_indexer] = value instead\n",
            "\n",
            "See the caveats in the documentation: https://pandas.pydata.org/pandas-docs/stable/user_guide/indexing.html#returning-a-view-versus-a-copy\n",
            "  \n"
          ],
          "name": "stderr"
        },
        {
          "output_type": "execute_result",
          "data": {
            "text/plain": [
              "Accident_Severity                  object\n",
              "Date                       datetime64[ns]\n",
              "Day_of_Week                        object\n",
              "Junction_Control                   object\n",
              "Junction_Detail                    object\n",
              "Light_Conditions                   object\n",
              "Road_Surface_Conditions            object\n",
              "Road_Type                          object\n",
              "Speed_limit                       float64\n",
              "Urban_or_Rural_Area                object\n",
              "Weather_Conditions                 object\n",
              "dtype: object"
            ]
          },
          "metadata": {
            "tags": []
          },
          "execution_count": 133
        }
      ]
    },
    {
      "cell_type": "code",
      "metadata": {
        "id": "Hs2dtWlUbiS0",
        "outputId": "b1f98883-e276-467e-d4e7-0c6954e8bb79",
        "colab": {
          "base_uri": "https://localhost:8080/",
          "height": 578
        }
      },
      "source": [
        "# Extract month and year from Date\n",
        "accidents_df['year'] = accidents_df['Date'].dt.year\n",
        "accidents_df['month'] = accidents_df['Date'].dt.month\n",
        "\n",
        "# Then drop the Date column\n",
        "accidents_df.drop(['Date'], axis = 1, inplace=True)\n",
        "\n",
        "accidents_df.head()"
      ],
      "execution_count": 134,
      "outputs": [
        {
          "output_type": "stream",
          "text": [
            "/usr/local/lib/python3.6/dist-packages/ipykernel_launcher.py:2: SettingWithCopyWarning: \n",
            "A value is trying to be set on a copy of a slice from a DataFrame.\n",
            "Try using .loc[row_indexer,col_indexer] = value instead\n",
            "\n",
            "See the caveats in the documentation: https://pandas.pydata.org/pandas-docs/stable/user_guide/indexing.html#returning-a-view-versus-a-copy\n",
            "  \n",
            "/usr/local/lib/python3.6/dist-packages/ipykernel_launcher.py:3: SettingWithCopyWarning: \n",
            "A value is trying to be set on a copy of a slice from a DataFrame.\n",
            "Try using .loc[row_indexer,col_indexer] = value instead\n",
            "\n",
            "See the caveats in the documentation: https://pandas.pydata.org/pandas-docs/stable/user_guide/indexing.html#returning-a-view-versus-a-copy\n",
            "  This is separate from the ipykernel package so we can avoid doing imports until\n",
            "/usr/local/lib/python3.6/dist-packages/pandas/core/frame.py:4169: SettingWithCopyWarning: \n",
            "A value is trying to be set on a copy of a slice from a DataFrame\n",
            "\n",
            "See the caveats in the documentation: https://pandas.pydata.org/pandas-docs/stable/user_guide/indexing.html#returning-a-view-versus-a-copy\n",
            "  errors=errors,\n"
          ],
          "name": "stderr"
        },
        {
          "output_type": "execute_result",
          "data": {
            "text/html": [
              "<div>\n",
              "<style scoped>\n",
              "    .dataframe tbody tr th:only-of-type {\n",
              "        vertical-align: middle;\n",
              "    }\n",
              "\n",
              "    .dataframe tbody tr th {\n",
              "        vertical-align: top;\n",
              "    }\n",
              "\n",
              "    .dataframe thead th {\n",
              "        text-align: right;\n",
              "    }\n",
              "</style>\n",
              "<table border=\"1\" class=\"dataframe\">\n",
              "  <thead>\n",
              "    <tr style=\"text-align: right;\">\n",
              "      <th></th>\n",
              "      <th>Accident_Severity</th>\n",
              "      <th>Day_of_Week</th>\n",
              "      <th>Junction_Control</th>\n",
              "      <th>Junction_Detail</th>\n",
              "      <th>Light_Conditions</th>\n",
              "      <th>Road_Surface_Conditions</th>\n",
              "      <th>Road_Type</th>\n",
              "      <th>Speed_limit</th>\n",
              "      <th>Urban_or_Rural_Area</th>\n",
              "      <th>Weather_Conditions</th>\n",
              "      <th>year</th>\n",
              "      <th>month</th>\n",
              "    </tr>\n",
              "  </thead>\n",
              "  <tbody>\n",
              "    <tr>\n",
              "      <th>601887</th>\n",
              "      <td>Slight</td>\n",
              "      <td>Monday</td>\n",
              "      <td>Give way or uncontrolled</td>\n",
              "      <td>T or staggered junction</td>\n",
              "      <td>Darkness - lights lit</td>\n",
              "      <td>Wet or damp</td>\n",
              "      <td>Single carriageway</td>\n",
              "      <td>30.0</td>\n",
              "      <td>Urban</td>\n",
              "      <td>Raining no high winds</td>\n",
              "      <td>2008</td>\n",
              "      <td>1</td>\n",
              "    </tr>\n",
              "    <tr>\n",
              "      <th>674910</th>\n",
              "      <td>Slight</td>\n",
              "      <td>Friday</td>\n",
              "      <td>Not at junction or within 20 metres</td>\n",
              "      <td>Not at junction or within 20 metres</td>\n",
              "      <td>Daylight</td>\n",
              "      <td>Dry</td>\n",
              "      <td>Single carriageway</td>\n",
              "      <td>60.0</td>\n",
              "      <td>Rural</td>\n",
              "      <td>Fine no high winds</td>\n",
              "      <td>2008</td>\n",
              "      <td>5</td>\n",
              "    </tr>\n",
              "    <tr>\n",
              "      <th>963623</th>\n",
              "      <td>Slight</td>\n",
              "      <td>Tuesday</td>\n",
              "      <td>Give way or uncontrolled</td>\n",
              "      <td>T or staggered junction</td>\n",
              "      <td>Daylight</td>\n",
              "      <td>Dry</td>\n",
              "      <td>Single carriageway</td>\n",
              "      <td>30.0</td>\n",
              "      <td>Rural</td>\n",
              "      <td>Fine no high winds</td>\n",
              "      <td>2010</td>\n",
              "      <td>11</td>\n",
              "    </tr>\n",
              "    <tr>\n",
              "      <th>654829</th>\n",
              "      <td>Slight</td>\n",
              "      <td>Tuesday</td>\n",
              "      <td>Give way or uncontrolled</td>\n",
              "      <td>Crossroads</td>\n",
              "      <td>Daylight</td>\n",
              "      <td>Dry</td>\n",
              "      <td>Single carriageway</td>\n",
              "      <td>30.0</td>\n",
              "      <td>Urban</td>\n",
              "      <td>Fine no high winds</td>\n",
              "      <td>2008</td>\n",
              "      <td>11</td>\n",
              "    </tr>\n",
              "    <tr>\n",
              "      <th>1464663</th>\n",
              "      <td>Slight</td>\n",
              "      <td>Tuesday</td>\n",
              "      <td>Give way or uncontrolled</td>\n",
              "      <td>Private drive or entrance</td>\n",
              "      <td>Daylight</td>\n",
              "      <td>Dry</td>\n",
              "      <td>Single carriageway</td>\n",
              "      <td>40.0</td>\n",
              "      <td>Rural</td>\n",
              "      <td>Fine no high winds</td>\n",
              "      <td>2013</td>\n",
              "      <td>2</td>\n",
              "    </tr>\n",
              "  </tbody>\n",
              "</table>\n",
              "</div>"
            ],
            "text/plain": [
              "        Accident_Severity Day_of_Week  ...  year month\n",
              "601887             Slight      Monday  ...  2008     1\n",
              "674910             Slight      Friday  ...  2008     5\n",
              "963623             Slight     Tuesday  ...  2010    11\n",
              "654829             Slight     Tuesday  ...  2008    11\n",
              "1464663            Slight     Tuesday  ...  2013     2\n",
              "\n",
              "[5 rows x 12 columns]"
            ]
          },
          "metadata": {
            "tags": []
          },
          "execution_count": 134
        }
      ]
    },
    {
      "cell_type": "code",
      "metadata": {
        "id": "qzO5OCh6biS2",
        "outputId": "eb3c108b-e30a-4e3e-e31e-bb232143e3ec",
        "colab": {
          "base_uri": "https://localhost:8080/",
          "height": 628
        }
      },
      "source": [
        "print(accidents_df.month.value_counts(normalize=True))\n",
        "accidents_df.month.value_counts().plot(kind='bar', figsize=(10, 6))\n",
        "    \n",
        "plt.xlabel('Month')\n",
        "plt.ylabel('Number of accidents')\n",
        "plt.title('Monthly distribution of accidents')\n",
        "plt.show()"
      ],
      "execution_count": 135,
      "outputs": [
        {
          "output_type": "stream",
          "text": [
            "11    0.092090\n",
            "10    0.090662\n",
            "7     0.088299\n",
            "9     0.087188\n",
            "5     0.086871\n",
            "6     0.084634\n",
            "8     0.081906\n",
            "1     0.080287\n",
            "12    0.079827\n",
            "3     0.079050\n",
            "4     0.076797\n",
            "2     0.072387\n",
            "Name: month, dtype: float64\n"
          ],
          "name": "stdout"
        },
        {
          "output_type": "display_data",
          "data": {
            "image/png": "[encoded data removed]",
            "text/plain": [
              "<Figure size 720x432 with 1 Axes>"
            ]
          },
          "metadata": {
            "tags": [],
            "needs_background": "light"
          }
        }
      ]
    },
    {
      "cell_type": "code",
      "metadata": {
        "scrolled": false,
        "id": "2A-MdUKvbiS4",
        "outputId": "f9667e40-3e65-4852-cf73-a83747041f42",
        "colab": {
          "base_uri": "https://localhost:8080/",
          "height": 34
        }
      },
      "source": [
        "accidents_df.shape"
      ],
      "execution_count": 136,
      "outputs": [
        {
          "output_type": "execute_result",
          "data": {
            "text/plain": [
              "(63036, 12)"
            ]
          },
          "metadata": {
            "tags": []
          },
          "execution_count": 136
        }
      ]
    },
    {
      "cell_type": "code",
      "metadata": {
        "scrolled": false,
        "id": "C2wVQ38rbiS8",
        "outputId": "1631b807-612a-4c0b-f93f-230223a2f002",
        "colab": {
          "base_uri": "https://localhost:8080/",
          "height": 1000
        }
      },
      "source": [
        "# A quick look on how the 1 attributes are distributed against Accident Severity\n",
        "for i in accidents_df.columns:\n",
        "    print(accidents_df.groupby('Accident_Severity')[i].value_counts(normalize=True))\n",
        "    print('\\n')\n",
        "    df_plt=accidents_df[i].value_counts()\n",
        "    df_plt.plot(kind='bar', figsize=(10, 6))\n",
        "    \n",
        "    plt.xlabel(i)\n",
        "    plt.ylabel('Accident count')\n",
        "    plt.title(i)\n",
        "    plt.show()"
      ],
      "execution_count": 137,
      "outputs": [
        {
          "output_type": "stream",
          "text": [
            "Accident_Severity  Accident_Severity\n",
            "Fatal              Fatal                1.0\n",
            "Serious            Serious              1.0\n",
            "Slight             Slight               1.0\n",
            "Name: Accident_Severity, dtype: float64\n",
            "\n",
            "\n"
          ],
          "name": "stdout"
        },
        {
          "output_type": "display_data",
          "data": {
            "image/png": "[encoded data removed]",
            "text/plain": [
              "<Figure size 720x432 with 1 Axes>"
            ]
          },
          "metadata": {
            "tags": [],
            "needs_background": "light"
          }
        },
        {
          "output_type": "stream",
          "text": [
            "Accident_Severity  Day_of_Week\n",
            "Fatal              Sunday         0.166972\n",
            "                   Saturday       0.150459\n",
            "                   Wednesday      0.150459\n",
            "                   Friday         0.143119\n",
            "                   Monday         0.139450\n",
            "                   Tuesday        0.132110\n",
            "                   Thursday       0.117431\n",
            "Serious            Friday         0.160712\n",
            "                   Tuesday        0.152564\n",
            "                   Thursday       0.145418\n",
            "                   Wednesday      0.140654\n",
            "                   Monday         0.138523\n",
            "                   Saturday       0.138523\n",
            "                   Sunday         0.123605\n",
            "Slight             Friday         0.164545\n",
            "                   Wednesday      0.157299\n",
            "                   Tuesday        0.155942\n",
            "                   Thursday       0.150732\n",
            "                   Monday         0.140936\n",
            "                   Saturday       0.128132\n",
            "                   Sunday         0.102414\n",
            "Name: Day_of_Week, dtype: float64\n",
            "\n",
            "\n"
          ],
          "name": "stdout"
        },
        {
          "output_type": "display_data",
          "data": {
            "image/png": "[encoded data removed]",
            "text/plain": [
              "<Figure size 720x432 with 1 Axes>"
            ]
          },
          "metadata": {
            "tags": [],
            "needs_background": "light"
          }
        },
        {
          "output_type": "stream",
          "text": [
            "Accident_Severity  Junction_Control                   \n",
            "Fatal              Give way or uncontrolled               0.688073\n",
            "                   Not at junction or within 20 metres    0.174312\n",
            "                   Auto traffic signal                    0.119266\n",
            "                   Stop sign                              0.014679\n",
            "                   Authorised person                      0.003670\n",
            "Serious            Give way or uncontrolled               0.777987\n",
            "                   Auto traffic signal                    0.141030\n",
            "                   Not at junction or within 20 metres    0.069199\n",
            "                   Stop sign                              0.008148\n",
            "                   Authorised person                      0.003635\n",
            "Slight             Give way or uncontrolled               0.763107\n",
            "                   Auto traffic signal                    0.167755\n",
            "                   Not at junction or within 20 metres    0.056536\n",
            "                   Stop sign                              0.009796\n",
            "                   Authorised person                      0.002807\n",
            "Name: Junction_Control, dtype: float64\n",
            "\n",
            "\n"
          ],
          "name": "stdout"
        },
        {
          "output_type": "display_data",
          "data": {
            "image/png": "[encoded data removed]",
            "text/plain": [
              "<Figure size 720x432 with 1 Axes>"
            ]
          },
          "metadata": {
            "tags": [],
            "needs_background": "light"
          }
        },
        {
          "output_type": "stream",
          "text": [
            "Accident_Severity  Junction_Detail                    \n",
            "Fatal              T or staggered junction                0.486239\n",
            "                   Not at junction or within 20 metres    0.174312\n",
            "                   Crossroads                             0.133945\n",
            "                   Private drive or entrance              0.058716\n",
            "                   Other junction                         0.047706\n",
            "                   Roundabout                             0.044037\n",
            "                   Slip road                              0.036697\n",
            "                   More than 4 arms (not roundabout)      0.014679\n",
            "                   Mini-roundabout                        0.003670\n",
            "Serious            T or staggered junction                0.528896\n",
            "                   Crossroads                             0.143287\n",
            "                   Roundabout                             0.099035\n",
            "                   Not at junction or within 20 metres    0.069199\n",
            "                   Private drive or entrance              0.061176\n",
            "                   Other junction                         0.043625\n",
            "                   Slip road                              0.022565\n",
            "                   More than 4 arms (not roundabout)      0.019055\n",
            "                   Mini-roundabout                        0.013163\n",
            "Slight             T or staggered junction                0.487765\n",
            "                   Crossroads                             0.154327\n",
            "                   Roundabout                             0.142899\n",
            "                   Not at junction or within 20 metres    0.056628\n",
            "                   Private drive or entrance              0.052867\n",
            "                   Other junction                         0.044411\n",
            "                   Slip road                              0.023499\n",
            "                   More than 4 arms (not roundabout)      0.019261\n",
            "                   Mini-roundabout                        0.018344\n",
            "Name: Junction_Detail, dtype: float64\n",
            "\n",
            "\n"
          ],
          "name": "stdout"
        },
        {
          "output_type": "display_data",
          "data": {
            "image/png": "[encoded data removed]",
            "text/plain": [
              "<Figure size 720x432 with 1 Axes>"
            ]
          },
          "metadata": {
            "tags": [],
            "needs_background": "light"
          }
        },
        {
          "output_type": "stream",
          "text": [
            "Accident_Severity  Light_Conditions           \n",
            "Fatal              Daylight                       0.616514\n",
            "                   Darkness - lights lit          0.247706\n",
            "                   Darkness - no lighting         0.110092\n",
            "                   Darkness - lighting unknown    0.012844\n",
            "                   Darkness - lights unlit        0.012844\n",
            "Serious            Daylight                       0.707409\n",
            "                   Darkness - lights lit          0.235678\n",
            "                   Darkness - no lighting         0.042497\n",
            "                   Darkness - lighting unknown    0.008274\n",
            "                   Darkness - lights unlit        0.006143\n",
            "Slight             Daylight                       0.746579\n",
            "                   Darkness - lights lit          0.214459\n",
            "                   Darkness - no lighting         0.025094\n",
            "                   Darkness - lighting unknown    0.009759\n",
            "                   Darkness - lights unlit        0.004109\n",
            "Name: Light_Conditions, dtype: float64\n",
            "\n",
            "\n"
          ],
          "name": "stdout"
        },
        {
          "output_type": "display_data",
          "data": {
            "image/png": "[encoded data removed]",
            "text/plain": [
              "<Figure size 720x432 with 1 Axes>"
            ]
          },
          "metadata": {
            "tags": [],
            "needs_background": "light"
          }
        },
        {
          "output_type": "stream",
          "text": [
            "Accident_Severity  Road_Surface_Conditions\n",
            "Fatal              Dry                        0.684404\n",
            "                   Wet or damp                0.297248\n",
            "                   Frost or ice               0.016514\n",
            "                   Flood over 3cm. deep       0.001835\n",
            "Serious            Dry                        0.727843\n",
            "                   Wet or damp                0.257490\n",
            "                   Frost or ice               0.011909\n",
            "                   Snow                       0.002131\n",
            "                   Flood over 3cm. deep       0.000627\n",
            "Slight             Dry                        0.705030\n",
            "                   Wet or damp                0.275691\n",
            "                   Frost or ice               0.014106\n",
            "                   Snow                       0.004604\n",
            "                   Flood over 3cm. deep       0.000569\n",
            "Name: Road_Surface_Conditions, dtype: float64\n",
            "\n",
            "\n"
          ],
          "name": "stdout"
        },
        {
          "output_type": "display_data",
          "data": {
            "image/png": "[encoded data removed]",
            "text/plain": [
              "<Figure size 720x432 with 1 Axes>"
            ]
          },
          "metadata": {
            "tags": [],
            "needs_background": "light"
          }
        },
        {
          "output_type": "stream",
          "text": [
            "Accident_Severity  Road_Type         \n",
            "Fatal              Single carriageway    0.770642\n",
            "                   Dual carriageway      0.166972\n",
            "                   Roundabout            0.040367\n",
            "                   One way street        0.014679\n",
            "                   Slip road             0.007339\n",
            "Serious            Single carriageway    0.784380\n",
            "                   Dual carriageway      0.105428\n",
            "                   Roundabout            0.079604\n",
            "                   One way street        0.022314\n",
            "                   Slip road             0.008274\n",
            "Slight             Single carriageway    0.741699\n",
            "                   Dual carriageway      0.114723\n",
            "                   Roundabout            0.109238\n",
            "                   One way street        0.022141\n",
            "                   Slip road             0.012199\n",
            "Name: Road_Type, dtype: float64\n",
            "\n",
            "\n"
          ],
          "name": "stdout"
        },
        {
          "output_type": "display_data",
          "data": {
            "image/png": "[encoded data removed]",
            "text/plain": [
              "<Figure size 720x432 with 1 Axes>"
            ]
          },
          "metadata": {
            "tags": [],
            "needs_background": "light"
          }
        },
        {
          "output_type": "stream",
          "text": [
            "Accident_Severity  Speed_limit\n",
            "Fatal              30.0           0.469725\n",
            "                   60.0           0.258716\n",
            "                   40.0           0.117431\n",
            "                   70.0           0.091743\n",
            "                   50.0           0.055046\n",
            "                   20.0           0.007339\n",
            "Serious            30.0           0.672809\n",
            "                   60.0           0.147675\n",
            "                   40.0           0.089633\n",
            "                   70.0           0.039112\n",
            "                   50.0           0.029585\n",
            "                   20.0           0.021186\n",
            "Slight             30.0           0.725795\n",
            "                   60.0           0.101680\n",
            "                   40.0           0.087555\n",
            "                   70.0           0.038357\n",
            "                   50.0           0.027571\n",
            "                   20.0           0.019041\n",
            "Name: Speed_limit, dtype: float64\n",
            "\n",
            "\n"
          ],
          "name": "stdout"
        },
        {
          "output_type": "display_data",
          "data": {
            "image/png": "[encoded data removed]",
            "text/plain": [
              "<Figure size 720x432 with 1 Axes>"
            ]
          },
          "metadata": {
            "tags": [],
            "needs_background": "light"
          }
        },
        {
          "output_type": "stream",
          "text": [
            "Accident_Severity  Urban_or_Rural_Area\n",
            "Fatal              Rural                  0.524771\n",
            "                   Urban                  0.475229\n",
            "Serious            Urban                  0.682337\n",
            "                   Rural                  0.317663\n",
            "Slight             Urban                  0.739296\n",
            "                   Rural                  0.260704\n",
            "Name: Urban_or_Rural_Area, dtype: float64\n",
            "\n",
            "\n"
          ],
          "name": "stdout"
        },
        {
          "output_type": "display_data",
          "data": {
            "image/png": "[encoded data removed]",
            "text/plain": [
              "<Figure size 720x432 with 1 Axes>"
            ]
          },
          "metadata": {
            "tags": [],
            "needs_background": "light"
          }
        },
        {
          "output_type": "stream",
          "text": [
            "Accident_Severity  Weather_Conditions   \n",
            "Fatal              Fine no high winds       0.860550\n",
            "                   Raining no high winds    0.091743\n",
            "                   Other                    0.014679\n",
            "                   Raining + high winds     0.011009\n",
            "                   Fine + high winds        0.009174\n",
            "                   Fog or mist              0.009174\n",
            "                   Snowing no high winds    0.003670\n",
            "Serious            Fine no high winds       0.847186\n",
            "                   Raining no high winds    0.105052\n",
            "                   Other                    0.015419\n",
            "                   Fine + high winds        0.012661\n",
            "                   Raining + high winds     0.011784\n",
            "                   Fog or mist              0.004262\n",
            "                   Snowing no high winds    0.003009\n",
            "                   Snowing + high winds     0.000627\n",
            "Slight             Fine no high winds       0.822266\n",
            "                   Raining no high winds    0.121015\n",
            "                   Other                    0.020784\n",
            "                   Raining + high winds     0.012437\n",
            "                   Fine + high winds        0.012089\n",
            "                   Snowing no high winds    0.005577\n",
            "                   Fog or mist              0.005118\n",
            "                   Snowing + high winds     0.000715\n",
            "Name: Weather_Conditions, dtype: float64\n",
            "\n",
            "\n"
          ],
          "name": "stdout"
        },
        {
          "output_type": "display_data",
          "data": {
            "image/png": "[encoded data removed]",
            "text/plain": [
              "<Figure size 720x432 with 1 Axes>"
            ]
          },
          "metadata": {
            "tags": [],
            "needs_background": "light"
          }
        },
        {
          "output_type": "stream",
          "text": [
            "Accident_Severity  year\n",
            "Fatal              2005    0.157798\n",
            "                   2006    0.126606\n",
            "                   2007    0.121101\n",
            "                   2008    0.102752\n",
            "                   2009    0.097248\n",
            "                   2010    0.062385\n",
            "                   2017    0.062385\n",
            "                   2012    0.056881\n",
            "                   2014    0.047706\n",
            "                   2011    0.045872\n",
            "                   2016    0.042202\n",
            "                   2013    0.040367\n",
            "                   2015    0.036697\n",
            "Serious            2008    0.093017\n",
            "                   2007    0.090134\n",
            "                   2006    0.087125\n",
            "                   2005    0.084368\n",
            "                   2009    0.079479\n",
            "                   2017    0.078225\n",
            "                   2012    0.075467\n",
            "                   2014    0.071205\n",
            "                   2010    0.070829\n",
            "                   2016    0.069700\n",
            "                   2011    0.068071\n",
            "                   2015    0.066441\n",
            "                   2013    0.065940\n",
            "Slight             2005    0.098250\n",
            "                   2006    0.096379\n",
            "                   2007    0.092050\n",
            "                   2008    0.089353\n",
            "                   2009    0.087042\n",
            "                   2010    0.080842\n",
            "                   2011    0.071193\n",
            "                   2012    0.070642\n",
            "                   2014    0.070055\n",
            "                   2015    0.065910\n",
            "                   2013    0.064405\n",
            "                   2016    0.058334\n",
            "                   2017    0.055545\n",
            "Name: year, dtype: float64\n",
            "\n",
            "\n"
          ],
          "name": "stdout"
        },
        {
          "output_type": "display_data",
          "data": {
            "image/png": "[encoded data removed]",
            "text/plain": [
              "<Figure size 720x432 with 1 Axes>"
            ]
          },
          "metadata": {
            "tags": [],
            "needs_background": "light"
          }
        },
        {
          "output_type": "stream",
          "text": [
            "Accident_Severity  month\n",
            "Fatal              10       0.097248\n",
            "                   5        0.095413\n",
            "                   9        0.093578\n",
            "                   1        0.091743\n",
            "                   4        0.086239\n",
            "                   8        0.086239\n",
            "                   3        0.082569\n",
            "                   12       0.082569\n",
            "                   7        0.078899\n",
            "                   11       0.071560\n",
            "                   6        0.067890\n",
            "                   2        0.066055\n",
            "Serious            7        0.094396\n",
            "                   10       0.094146\n",
            "                   11       0.093017\n",
            "                   9        0.090886\n",
            "                   6        0.089006\n",
            "                   5        0.086749\n",
            "                   8        0.084368\n",
            "                   4        0.081610\n",
            "                   3        0.073837\n",
            "                   1        0.072208\n",
            "                   12       0.071330\n",
            "                   2        0.068447\n",
            "Slight             11       0.092160\n",
            "                   10       0.090087\n",
            "                   7        0.087500\n",
            "                   5        0.086803\n",
            "                   9        0.086583\n",
            "                   6        0.084162\n",
            "                   8        0.081502\n",
            "                   1        0.081355\n",
            "                   12       0.081043\n",
            "                   3        0.079778\n",
            "                   4        0.075999\n",
            "                   2        0.073027\n",
            "Name: month, dtype: float64\n",
            "\n",
            "\n"
          ],
          "name": "stdout"
        },
        {
          "output_type": "display_data",
          "data": {
            "image/png": "[encoded data removed]",
            "text/plain": [
              "<Figure size 720x432 with 1 Axes>"
            ]
          },
          "metadata": {
            "tags": [],
            "needs_background": "light"
          }
        }
      ]
    },
    {
      "cell_type": "code",
      "metadata": {
        "scrolled": false,
        "id": "qx1jCIVsbiS-",
        "outputId": "bdea6ece-e37a-4c45-c07e-c1ebff1345c4",
        "colab": {
          "base_uri": "https://localhost:8080/",
          "height": 289
        }
      },
      "source": [
        "accidents_df.head()"
      ],
      "execution_count": 138,
      "outputs": [
        {
          "output_type": "execute_result",
          "data": {
            "text/html": [
              "<div>\n",
              "<style scoped>\n",
              "    .dataframe tbody tr th:only-of-type {\n",
              "        vertical-align: middle;\n",
              "    }\n",
              "\n",
              "    .dataframe tbody tr th {\n",
              "        vertical-align: top;\n",
              "    }\n",
              "\n",
              "    .dataframe thead th {\n",
              "        text-align: right;\n",
              "    }\n",
              "</style>\n",
              "<table border=\"1\" class=\"dataframe\">\n",
              "  <thead>\n",
              "    <tr style=\"text-align: right;\">\n",
              "      <th></th>\n",
              "      <th>Accident_Severity</th>\n",
              "      <th>Day_of_Week</th>\n",
              "      <th>Junction_Control</th>\n",
              "      <th>Junction_Detail</th>\n",
              "      <th>Light_Conditions</th>\n",
              "      <th>Road_Surface_Conditions</th>\n",
              "      <th>Road_Type</th>\n",
              "      <th>Speed_limit</th>\n",
              "      <th>Urban_or_Rural_Area</th>\n",
              "      <th>Weather_Conditions</th>\n",
              "      <th>year</th>\n",
              "      <th>month</th>\n",
              "    </tr>\n",
              "  </thead>\n",
              "  <tbody>\n",
              "    <tr>\n",
              "      <th>601887</th>\n",
              "      <td>Slight</td>\n",
              "      <td>Monday</td>\n",
              "      <td>Give way or uncontrolled</td>\n",
              "      <td>T or staggered junction</td>\n",
              "      <td>Darkness - lights lit</td>\n",
              "      <td>Wet or damp</td>\n",
              "      <td>Single carriageway</td>\n",
              "      <td>30.0</td>\n",
              "      <td>Urban</td>\n",
              "      <td>Raining no high winds</td>\n",
              "      <td>2008</td>\n",
              "      <td>1</td>\n",
              "    </tr>\n",
              "    <tr>\n",
              "      <th>674910</th>\n",
              "      <td>Slight</td>\n",
              "      <td>Friday</td>\n",
              "      <td>Not at junction or within 20 metres</td>\n",
              "      <td>Not at junction or within 20 metres</td>\n",
              "      <td>Daylight</td>\n",
              "      <td>Dry</td>\n",
              "      <td>Single carriageway</td>\n",
              "      <td>60.0</td>\n",
              "      <td>Rural</td>\n",
              "      <td>Fine no high winds</td>\n",
              "      <td>2008</td>\n",
              "      <td>5</td>\n",
              "    </tr>\n",
              "    <tr>\n",
              "      <th>963623</th>\n",
              "      <td>Slight</td>\n",
              "      <td>Tuesday</td>\n",
              "      <td>Give way or uncontrolled</td>\n",
              "      <td>T or staggered junction</td>\n",
              "      <td>Daylight</td>\n",
              "      <td>Dry</td>\n",
              "      <td>Single carriageway</td>\n",
              "      <td>30.0</td>\n",
              "      <td>Rural</td>\n",
              "      <td>Fine no high winds</td>\n",
              "      <td>2010</td>\n",
              "      <td>11</td>\n",
              "    </tr>\n",
              "    <tr>\n",
              "      <th>654829</th>\n",
              "      <td>Slight</td>\n",
              "      <td>Tuesday</td>\n",
              "      <td>Give way or uncontrolled</td>\n",
              "      <td>Crossroads</td>\n",
              "      <td>Daylight</td>\n",
              "      <td>Dry</td>\n",
              "      <td>Single carriageway</td>\n",
              "      <td>30.0</td>\n",
              "      <td>Urban</td>\n",
              "      <td>Fine no high winds</td>\n",
              "      <td>2008</td>\n",
              "      <td>11</td>\n",
              "    </tr>\n",
              "    <tr>\n",
              "      <th>1464663</th>\n",
              "      <td>Slight</td>\n",
              "      <td>Tuesday</td>\n",
              "      <td>Give way or uncontrolled</td>\n",
              "      <td>Private drive or entrance</td>\n",
              "      <td>Daylight</td>\n",
              "      <td>Dry</td>\n",
              "      <td>Single carriageway</td>\n",
              "      <td>40.0</td>\n",
              "      <td>Rural</td>\n",
              "      <td>Fine no high winds</td>\n",
              "      <td>2013</td>\n",
              "      <td>2</td>\n",
              "    </tr>\n",
              "  </tbody>\n",
              "</table>\n",
              "</div>"
            ],
            "text/plain": [
              "        Accident_Severity Day_of_Week  ...  year month\n",
              "601887             Slight      Monday  ...  2008     1\n",
              "674910             Slight      Friday  ...  2008     5\n",
              "963623             Slight     Tuesday  ...  2010    11\n",
              "654829             Slight     Tuesday  ...  2008    11\n",
              "1464663            Slight     Tuesday  ...  2013     2\n",
              "\n",
              "[5 rows x 12 columns]"
            ]
          },
          "metadata": {
            "tags": []
          },
          "execution_count": 138
        }
      ]
    },
    {
      "cell_type": "code",
      "metadata": {
        "id": "8stwAV8PbiTA",
        "outputId": "cba06132-ea1a-4219-c122-e145f9329f72",
        "colab": {
          "base_uri": "https://localhost:8080/",
          "height": 34
        }
      },
      "source": [
        "accidents_df.shape"
      ],
      "execution_count": 139,
      "outputs": [
        {
          "output_type": "execute_result",
          "data": {
            "text/plain": [
              "(63036, 12)"
            ]
          },
          "metadata": {
            "tags": []
          },
          "execution_count": 139
        }
      ]
    },
    {
      "cell_type": "markdown",
      "metadata": {
        "id": "3QJVA78soiCG"
      },
      "source": [
        "As highlighted earlier, the dataset is imbalanced\n"
      ]
    },
    {
      "cell_type": "code",
      "metadata": {
        "id": "rDzssjdNofFh",
        "outputId": "816b8c79-18df-49bd-fe05-08767f2da8d6",
        "colab": {
          "base_uri": "https://localhost:8080/",
          "height": 85
        }
      },
      "source": [
        "df.Accident_Severity.value_counts(normalize=True)"
      ],
      "execution_count": 140,
      "outputs": [
        {
          "output_type": "execute_result",
          "data": {
            "text/plain": [
              "Slight     0.848881\n",
              "Serious    0.138419\n",
              "Fatal      0.012700\n",
              "Name: Accident_Severity, dtype: float64"
            ]
          },
          "metadata": {
            "tags": []
          },
          "execution_count": 140
        }
      ]
    },
    {
      "cell_type": "markdown",
      "metadata": {
        "id": "EakFd1p4r6Zk"
      },
      "source": [
        "We will carry out sampling compensation to have a balanced dataset for modelling"
      ]
    },
    {
      "cell_type": "code",
      "metadata": {
        "id": "WoL1xdLjbiTD",
        "outputId": "e9553cfa-8177-4379-f57b-7a5f12b3da07",
        "colab": {
          "base_uri": "https://localhost:8080/",
          "height": 68
        }
      },
      "source": [
        "# Counts for each of the classes\n",
        "class_Slightcount, class_Seriouscount, class_Fatalcount = accidents_df['Accident_Severity'].value_counts()\n",
        "class_Slight = accidents_df[accidents_df['Accident_Severity'] == 'Slight']\n",
        "class_Serious = accidents_df[accidents_df['Accident_Severity'] == 'Serious']\n",
        "class_Fatal = accidents_df[accidents_df['Accident_Severity'] == 'Fatal']\n",
        "print('class_Slight:', class_Slight.shape)\n",
        "print('class_Serious:', class_Serious.shape)\n",
        "print('class_Fatal:', class_Fatal.shape)"
      ],
      "execution_count": 141,
      "outputs": [
        {
          "output_type": "stream",
          "text": [
            "class_Slight: (54514, 12)\n",
            "class_Serious: (7977, 12)\n",
            "class_Fatal: (545, 12)\n"
          ],
          "name": "stdout"
        }
      ]
    },
    {
      "cell_type": "code",
      "metadata": {
        "id": "1lxV4pvpbiTG",
        "outputId": "c9f6d336-b103-4c8a-d33e-c06776dd0f83",
        "colab": {
          "base_uri": "https://localhost:8080/",
          "height": 357
        }
      },
      "source": [
        "# take samples from Fatal and Slight that are equal in number to Serious\n",
        "class_Fatal_over = class_Fatal.sample(class_Seriouscount, replace=True)\n",
        "class_Slight_under = class_Slight.sample(class_Seriouscount, replace=True)\n",
        "\n",
        "# merge into a balanced dataframe\n",
        "df_bal = pd.concat([class_Fatal_over,class_Slight_under, class_Serious], axis=0)\n",
        "\n",
        "print(df_bal.Accident_Severity.value_counts())\n",
        "df_bal.head()"
      ],
      "execution_count": 142,
      "outputs": [
        {
          "output_type": "stream",
          "text": [
            "Slight     7977\n",
            "Fatal      7977\n",
            "Serious    7977\n",
            "Name: Accident_Severity, dtype: int64\n"
          ],
          "name": "stdout"
        },
        {
          "output_type": "execute_result",
          "data": {
            "text/html": [
              "<div>\n",
              "<style scoped>\n",
              "    .dataframe tbody tr th:only-of-type {\n",
              "        vertical-align: middle;\n",
              "    }\n",
              "\n",
              "    .dataframe tbody tr th {\n",
              "        vertical-align: top;\n",
              "    }\n",
              "\n",
              "    .dataframe thead th {\n",
              "        text-align: right;\n",
              "    }\n",
              "</style>\n",
              "<table border=\"1\" class=\"dataframe\">\n",
              "  <thead>\n",
              "    <tr style=\"text-align: right;\">\n",
              "      <th></th>\n",
              "      <th>Accident_Severity</th>\n",
              "      <th>Day_of_Week</th>\n",
              "      <th>Junction_Control</th>\n",
              "      <th>Junction_Detail</th>\n",
              "      <th>Light_Conditions</th>\n",
              "      <th>Road_Surface_Conditions</th>\n",
              "      <th>Road_Type</th>\n",
              "      <th>Speed_limit</th>\n",
              "      <th>Urban_or_Rural_Area</th>\n",
              "      <th>Weather_Conditions</th>\n",
              "      <th>year</th>\n",
              "      <th>month</th>\n",
              "    </tr>\n",
              "  </thead>\n",
              "  <tbody>\n",
              "    <tr>\n",
              "      <th>2046236</th>\n",
              "      <td>Fatal</td>\n",
              "      <td>Sunday</td>\n",
              "      <td>Give way or uncontrolled</td>\n",
              "      <td>Crossroads</td>\n",
              "      <td>Daylight</td>\n",
              "      <td>Dry</td>\n",
              "      <td>Single carriageway</td>\n",
              "      <td>60.0</td>\n",
              "      <td>Rural</td>\n",
              "      <td>Fine no high winds</td>\n",
              "      <td>2017</td>\n",
              "      <td>8</td>\n",
              "    </tr>\n",
              "    <tr>\n",
              "      <th>263725</th>\n",
              "      <td>Fatal</td>\n",
              "      <td>Tuesday</td>\n",
              "      <td>Auto traffic signal</td>\n",
              "      <td>T or staggered junction</td>\n",
              "      <td>Darkness - lights lit</td>\n",
              "      <td>Dry</td>\n",
              "      <td>Dual carriageway</td>\n",
              "      <td>40.0</td>\n",
              "      <td>Urban</td>\n",
              "      <td>Fine no high winds</td>\n",
              "      <td>2006</td>\n",
              "      <td>10</td>\n",
              "    </tr>\n",
              "    <tr>\n",
              "      <th>1471612</th>\n",
              "      <td>Fatal</td>\n",
              "      <td>Wednesday</td>\n",
              "      <td>Give way or uncontrolled</td>\n",
              "      <td>T or staggered junction</td>\n",
              "      <td>Daylight</td>\n",
              "      <td>Dry</td>\n",
              "      <td>Single carriageway</td>\n",
              "      <td>30.0</td>\n",
              "      <td>Rural</td>\n",
              "      <td>Fine no high winds</td>\n",
              "      <td>2013</td>\n",
              "      <td>7</td>\n",
              "    </tr>\n",
              "    <tr>\n",
              "      <th>756835</th>\n",
              "      <td>Fatal</td>\n",
              "      <td>Tuesday</td>\n",
              "      <td>Give way or uncontrolled</td>\n",
              "      <td>T or staggered junction</td>\n",
              "      <td>Darkness - lights lit</td>\n",
              "      <td>Dry</td>\n",
              "      <td>Single carriageway</td>\n",
              "      <td>30.0</td>\n",
              "      <td>Urban</td>\n",
              "      <td>Fine no high winds</td>\n",
              "      <td>2009</td>\n",
              "      <td>10</td>\n",
              "    </tr>\n",
              "    <tr>\n",
              "      <th>1413156</th>\n",
              "      <td>Fatal</td>\n",
              "      <td>Thursday</td>\n",
              "      <td>Auto traffic signal</td>\n",
              "      <td>Crossroads</td>\n",
              "      <td>Darkness - lights lit</td>\n",
              "      <td>Dry</td>\n",
              "      <td>Single carriageway</td>\n",
              "      <td>30.0</td>\n",
              "      <td>Urban</td>\n",
              "      <td>Fine no high winds</td>\n",
              "      <td>2013</td>\n",
              "      <td>10</td>\n",
              "    </tr>\n",
              "  </tbody>\n",
              "</table>\n",
              "</div>"
            ],
            "text/plain": [
              "        Accident_Severity Day_of_Week  ...  year month\n",
              "2046236             Fatal      Sunday  ...  2017     8\n",
              "263725              Fatal     Tuesday  ...  2006    10\n",
              "1471612             Fatal   Wednesday  ...  2013     7\n",
              "756835              Fatal     Tuesday  ...  2009    10\n",
              "1413156             Fatal    Thursday  ...  2013    10\n",
              "\n",
              "[5 rows x 12 columns]"
            ]
          },
          "metadata": {
            "tags": []
          },
          "execution_count": 142
        }
      ]
    },
    {
      "cell_type": "code",
      "metadata": {
        "id": "3Mn-dVXtgsH8",
        "outputId": "95559072-5799-4c3c-a066-f456e2878d35",
        "colab": {
          "base_uri": "https://localhost:8080/",
          "height": 68
        }
      },
      "source": [
        "# Changing all darkness values into \"Dark/Night\" \n",
        "\n",
        "df_bal['Light_Conditions'].replace(to_replace=['Darkness - lights lit'], value='Dark/Night', inplace=True)\n",
        "df_bal['Light_Conditions'].replace(to_replace=['Darkness - no lighting'], value='Dark/Night', inplace=True)\n",
        "df_bal['Light_Conditions'].replace(to_replace=['Darkness - lighting unknown'], value='Dark/Night', inplace=True)\n",
        "df_bal['Light_Conditions'].replace(to_replace=['Darkness - lights unlit'], value='Dark/Night', inplace=True)\n",
        "\n",
        "df_bal.Light_Conditions.value_counts(normalize=True)"
      ],
      "execution_count": 143,
      "outputs": [
        {
          "output_type": "execute_result",
          "data": {
            "text/plain": [
              "Daylight      0.690109\n",
              "Dark/Night    0.309891\n",
              "Name: Light_Conditions, dtype: float64"
            ]
          },
          "metadata": {
            "tags": []
          },
          "execution_count": 143
        }
      ]
    },
    {
      "cell_type": "code",
      "metadata": {
        "id": "sHkhvCGZgsQd",
        "outputId": "bc474890-7086-49c8-e55d-8caa6f0a4137",
        "colab": {
          "base_uri": "https://localhost:8080/",
          "height": 34
        }
      },
      "source": [
        "df_bal.shape"
      ],
      "execution_count": 144,
      "outputs": [
        {
          "output_type": "execute_result",
          "data": {
            "text/plain": [
              "(23931, 12)"
            ]
          },
          "metadata": {
            "tags": []
          },
          "execution_count": 144
        }
      ]
    },
    {
      "cell_type": "code",
      "metadata": {
        "id": "vEEfLskUgsjb",
        "outputId": "9ac443ab-3348-444a-a746-ee2bbe7896de",
        "colab": {
          "base_uri": "https://localhost:8080/",
          "height": 289
        }
      },
      "source": [
        "df_bal.head()"
      ],
      "execution_count": 145,
      "outputs": [
        {
          "output_type": "execute_result",
          "data": {
            "text/html": [
              "<div>\n",
              "<style scoped>\n",
              "    .dataframe tbody tr th:only-of-type {\n",
              "        vertical-align: middle;\n",
              "    }\n",
              "\n",
              "    .dataframe tbody tr th {\n",
              "        vertical-align: top;\n",
              "    }\n",
              "\n",
              "    .dataframe thead th {\n",
              "        text-align: right;\n",
              "    }\n",
              "</style>\n",
              "<table border=\"1\" class=\"dataframe\">\n",
              "  <thead>\n",
              "    <tr style=\"text-align: right;\">\n",
              "      <th></th>\n",
              "      <th>Accident_Severity</th>\n",
              "      <th>Day_of_Week</th>\n",
              "      <th>Junction_Control</th>\n",
              "      <th>Junction_Detail</th>\n",
              "      <th>Light_Conditions</th>\n",
              "      <th>Road_Surface_Conditions</th>\n",
              "      <th>Road_Type</th>\n",
              "      <th>Speed_limit</th>\n",
              "      <th>Urban_or_Rural_Area</th>\n",
              "      <th>Weather_Conditions</th>\n",
              "      <th>year</th>\n",
              "      <th>month</th>\n",
              "    </tr>\n",
              "  </thead>\n",
              "  <tbody>\n",
              "    <tr>\n",
              "      <th>2046236</th>\n",
              "      <td>Fatal</td>\n",
              "      <td>Sunday</td>\n",
              "      <td>Give way or uncontrolled</td>\n",
              "      <td>Crossroads</td>\n",
              "      <td>Daylight</td>\n",
              "      <td>Dry</td>\n",
              "      <td>Single carriageway</td>\n",
              "      <td>60.0</td>\n",
              "      <td>Rural</td>\n",
              "      <td>Fine no high winds</td>\n",
              "      <td>2017</td>\n",
              "      <td>8</td>\n",
              "    </tr>\n",
              "    <tr>\n",
              "      <th>263725</th>\n",
              "      <td>Fatal</td>\n",
              "      <td>Tuesday</td>\n",
              "      <td>Auto traffic signal</td>\n",
              "      <td>T or staggered junction</td>\n",
              "      <td>Dark/Night</td>\n",
              "      <td>Dry</td>\n",
              "      <td>Dual carriageway</td>\n",
              "      <td>40.0</td>\n",
              "      <td>Urban</td>\n",
              "      <td>Fine no high winds</td>\n",
              "      <td>2006</td>\n",
              "      <td>10</td>\n",
              "    </tr>\n",
              "    <tr>\n",
              "      <th>1471612</th>\n",
              "      <td>Fatal</td>\n",
              "      <td>Wednesday</td>\n",
              "      <td>Give way or uncontrolled</td>\n",
              "      <td>T or staggered junction</td>\n",
              "      <td>Daylight</td>\n",
              "      <td>Dry</td>\n",
              "      <td>Single carriageway</td>\n",
              "      <td>30.0</td>\n",
              "      <td>Rural</td>\n",
              "      <td>Fine no high winds</td>\n",
              "      <td>2013</td>\n",
              "      <td>7</td>\n",
              "    </tr>\n",
              "    <tr>\n",
              "      <th>756835</th>\n",
              "      <td>Fatal</td>\n",
              "      <td>Tuesday</td>\n",
              "      <td>Give way or uncontrolled</td>\n",
              "      <td>T or staggered junction</td>\n",
              "      <td>Dark/Night</td>\n",
              "      <td>Dry</td>\n",
              "      <td>Single carriageway</td>\n",
              "      <td>30.0</td>\n",
              "      <td>Urban</td>\n",
              "      <td>Fine no high winds</td>\n",
              "      <td>2009</td>\n",
              "      <td>10</td>\n",
              "    </tr>\n",
              "    <tr>\n",
              "      <th>1413156</th>\n",
              "      <td>Fatal</td>\n",
              "      <td>Thursday</td>\n",
              "      <td>Auto traffic signal</td>\n",
              "      <td>Crossroads</td>\n",
              "      <td>Dark/Night</td>\n",
              "      <td>Dry</td>\n",
              "      <td>Single carriageway</td>\n",
              "      <td>30.0</td>\n",
              "      <td>Urban</td>\n",
              "      <td>Fine no high winds</td>\n",
              "      <td>2013</td>\n",
              "      <td>10</td>\n",
              "    </tr>\n",
              "  </tbody>\n",
              "</table>\n",
              "</div>"
            ],
            "text/plain": [
              "        Accident_Severity Day_of_Week  ...  year month\n",
              "2046236             Fatal      Sunday  ...  2017     8\n",
              "263725              Fatal     Tuesday  ...  2006    10\n",
              "1471612             Fatal   Wednesday  ...  2013     7\n",
              "756835              Fatal     Tuesday  ...  2009    10\n",
              "1413156             Fatal    Thursday  ...  2013    10\n",
              "\n",
              "[5 rows x 12 columns]"
            ]
          },
          "metadata": {
            "tags": []
          },
          "execution_count": 145
        }
      ]
    },
    {
      "cell_type": "markdown",
      "metadata": {
        "id": "DBXHGr-SbiTH"
      },
      "source": [
        "### One Hot Encoding"
      ]
    },
    {
      "cell_type": "code",
      "metadata": {
        "id": "7d34Rwz2biTI",
        "outputId": "d8672767-e099-4cee-b943-46bb7471aea8",
        "colab": {
          "base_uri": "https://localhost:8080/",
          "height": 524
        }
      },
      "source": [
        "severity = df_bal.Accident_Severity\n",
        "Day = pd.get_dummies(df_bal[\"Day_of_Week\"])\n",
        "jc = pd.get_dummies(df_bal[\"Junction_Control\"])\n",
        "jd = pd.get_dummies(df_bal[\"Junction_Detail\"])\n",
        "light = pd.get_dummies(df_bal[\"Light_Conditions\"])\n",
        "surface = pd.get_dummies(df_bal[\"Road_Surface_Conditions\"])\n",
        "road = pd.get_dummies(df_bal[\"Road_Type\"])\n",
        "speed = pd.get_dummies(df_bal[\"Speed_limit\"])\n",
        "area = pd.get_dummies(df_bal[\"Urban_or_Rural_Area\"])\n",
        "weather = pd.get_dummies(df_bal[\"Weather_Conditions\"])\n",
        "month = pd.get_dummies(df_bal[\"month\"])\n",
        "\n",
        "# Creating a feature set\n",
        "FeatureTable= pd.concat([severity,Day, jc, jd, light, surface, road, speed, area, weather, month],axis = 1, sort = False)\n",
        "FeatureTable"
      ],
      "execution_count": 146,
      "outputs": [
        {
          "output_type": "execute_result",
          "data": {
            "text/html": [
              "<div>\n",
              "<style scoped>\n",
              "    .dataframe tbody tr th:only-of-type {\n",
              "        vertical-align: middle;\n",
              "    }\n",
              "\n",
              "    .dataframe tbody tr th {\n",
              "        vertical-align: top;\n",
              "    }\n",
              "\n",
              "    .dataframe thead th {\n",
              "        text-align: right;\n",
              "    }\n",
              "</style>\n",
              "<table border=\"1\" class=\"dataframe\">\n",
              "  <thead>\n",
              "    <tr style=\"text-align: right;\">\n",
              "      <th></th>\n",
              "      <th>Accident_Severity</th>\n",
              "      <th>Friday</th>\n",
              "      <th>Monday</th>\n",
              "      <th>Saturday</th>\n",
              "      <th>Sunday</th>\n",
              "      <th>Thursday</th>\n",
              "      <th>Tuesday</th>\n",
              "      <th>Wednesday</th>\n",
              "      <th>Authorised person</th>\n",
              "      <th>Auto traffic signal</th>\n",
              "      <th>Give way or uncontrolled</th>\n",
              "      <th>Not at junction or within 20 metres</th>\n",
              "      <th>Stop sign</th>\n",
              "      <th>Crossroads</th>\n",
              "      <th>Mini-roundabout</th>\n",
              "      <th>More than 4 arms (not roundabout)</th>\n",
              "      <th>Not at junction or within 20 metres</th>\n",
              "      <th>Other junction</th>\n",
              "      <th>Private drive or entrance</th>\n",
              "      <th>Roundabout</th>\n",
              "      <th>Slip road</th>\n",
              "      <th>T or staggered junction</th>\n",
              "      <th>Dark/Night</th>\n",
              "      <th>Daylight</th>\n",
              "      <th>Dry</th>\n",
              "      <th>Flood over 3cm. deep</th>\n",
              "      <th>Frost or ice</th>\n",
              "      <th>Snow</th>\n",
              "      <th>Wet or damp</th>\n",
              "      <th>Dual carriageway</th>\n",
              "      <th>One way street</th>\n",
              "      <th>Roundabout</th>\n",
              "      <th>Single carriageway</th>\n",
              "      <th>Slip road</th>\n",
              "      <th>20.0</th>\n",
              "      <th>30.0</th>\n",
              "      <th>40.0</th>\n",
              "      <th>50.0</th>\n",
              "      <th>60.0</th>\n",
              "      <th>70.0</th>\n",
              "      <th>Rural</th>\n",
              "      <th>Urban</th>\n",
              "      <th>Fine + high winds</th>\n",
              "      <th>Fine no high winds</th>\n",
              "      <th>Fog or mist</th>\n",
              "      <th>Other</th>\n",
              "      <th>Raining + high winds</th>\n",
              "      <th>Raining no high winds</th>\n",
              "      <th>Snowing + high winds</th>\n",
              "      <th>Snowing no high winds</th>\n",
              "      <th>1</th>\n",
              "      <th>2</th>\n",
              "      <th>3</th>\n",
              "      <th>4</th>\n",
              "      <th>5</th>\n",
              "      <th>6</th>\n",
              "      <th>7</th>\n",
              "      <th>8</th>\n",
              "      <th>9</th>\n",
              "      <th>10</th>\n",
              "      <th>11</th>\n",
              "      <th>12</th>\n",
              "    </tr>\n",
              "  </thead>\n",
              "  <tbody>\n",
              "    <tr>\n",
              "      <th>2046236</th>\n",
              "      <td>Fatal</td>\n",
              "      <td>0</td>\n",
              "      <td>0</td>\n",
              "      <td>0</td>\n",
              "      <td>1</td>\n",
              "      <td>0</td>\n",
              "      <td>0</td>\n",
              "      <td>0</td>\n",
              "      <td>0</td>\n",
              "      <td>0</td>\n",
              "      <td>1</td>\n",
              "      <td>0</td>\n",
              "      <td>0</td>\n",
              "      <td>1</td>\n",
              "      <td>0</td>\n",
              "      <td>0</td>\n",
              "      <td>0</td>\n",
              "      <td>0</td>\n",
              "      <td>0</td>\n",
              "      <td>0</td>\n",
              "      <td>0</td>\n",
              "      <td>0</td>\n",
              "      <td>0</td>\n",
              "      <td>1</td>\n",
              "      <td>1</td>\n",
              "      <td>0</td>\n",
              "      <td>0</td>\n",
              "      <td>0</td>\n",
              "      <td>0</td>\n",
              "      <td>0</td>\n",
              "      <td>0</td>\n",
              "      <td>0</td>\n",
              "      <td>1</td>\n",
              "      <td>0</td>\n",
              "      <td>0</td>\n",
              "      <td>0</td>\n",
              "      <td>0</td>\n",
              "      <td>0</td>\n",
              "      <td>1</td>\n",
              "      <td>0</td>\n",
              "      <td>1</td>\n",
              "      <td>0</td>\n",
              "      <td>0</td>\n",
              "      <td>1</td>\n",
              "      <td>0</td>\n",
              "      <td>0</td>\n",
              "      <td>0</td>\n",
              "      <td>0</td>\n",
              "      <td>0</td>\n",
              "      <td>0</td>\n",
              "      <td>0</td>\n",
              "      <td>0</td>\n",
              "      <td>0</td>\n",
              "      <td>0</td>\n",
              "      <td>0</td>\n",
              "      <td>0</td>\n",
              "      <td>0</td>\n",
              "      <td>1</td>\n",
              "      <td>0</td>\n",
              "      <td>0</td>\n",
              "      <td>0</td>\n",
              "      <td>0</td>\n",
              "    </tr>\n",
              "    <tr>\n",
              "      <th>263725</th>\n",
              "      <td>Fatal</td>\n",
              "      <td>0</td>\n",
              "      <td>0</td>\n",
              "      <td>0</td>\n",
              "      <td>0</td>\n",
              "      <td>0</td>\n",
              "      <td>1</td>\n",
              "      <td>0</td>\n",
              "      <td>0</td>\n",
              "      <td>1</td>\n",
              "      <td>0</td>\n",
              "      <td>0</td>\n",
              "      <td>0</td>\n",
              "      <td>0</td>\n",
              "      <td>0</td>\n",
              "      <td>0</td>\n",
              "      <td>0</td>\n",
              "      <td>0</td>\n",
              "      <td>0</td>\n",
              "      <td>0</td>\n",
              "      <td>0</td>\n",
              "      <td>1</td>\n",
              "      <td>1</td>\n",
              "      <td>0</td>\n",
              "      <td>1</td>\n",
              "      <td>0</td>\n",
              "      <td>0</td>\n",
              "      <td>0</td>\n",
              "      <td>0</td>\n",
              "      <td>1</td>\n",
              "      <td>0</td>\n",
              "      <td>0</td>\n",
              "      <td>0</td>\n",
              "      <td>0</td>\n",
              "      <td>0</td>\n",
              "      <td>0</td>\n",
              "      <td>1</td>\n",
              "      <td>0</td>\n",
              "      <td>0</td>\n",
              "      <td>0</td>\n",
              "      <td>0</td>\n",
              "      <td>1</td>\n",
              "      <td>0</td>\n",
              "      <td>1</td>\n",
              "      <td>0</td>\n",
              "      <td>0</td>\n",
              "      <td>0</td>\n",
              "      <td>0</td>\n",
              "      <td>0</td>\n",
              "      <td>0</td>\n",
              "      <td>0</td>\n",
              "      <td>0</td>\n",
              "      <td>0</td>\n",
              "      <td>0</td>\n",
              "      <td>0</td>\n",
              "      <td>0</td>\n",
              "      <td>0</td>\n",
              "      <td>0</td>\n",
              "      <td>0</td>\n",
              "      <td>1</td>\n",
              "      <td>0</td>\n",
              "      <td>0</td>\n",
              "    </tr>\n",
              "    <tr>\n",
              "      <th>1471612</th>\n",
              "      <td>Fatal</td>\n",
              "      <td>0</td>\n",
              "      <td>0</td>\n",
              "      <td>0</td>\n",
              "      <td>0</td>\n",
              "      <td>0</td>\n",
              "      <td>0</td>\n",
              "      <td>1</td>\n",
              "      <td>0</td>\n",
              "      <td>0</td>\n",
              "      <td>1</td>\n",
              "      <td>0</td>\n",
              "      <td>0</td>\n",
              "      <td>0</td>\n",
              "      <td>0</td>\n",
              "      <td>0</td>\n",
              "      <td>0</td>\n",
              "      <td>0</td>\n",
              "      <td>0</td>\n",
              "      <td>0</td>\n",
              "      <td>0</td>\n",
              "      <td>1</td>\n",
              "      <td>0</td>\n",
              "      <td>1</td>\n",
              "      <td>1</td>\n",
              "      <td>0</td>\n",
              "      <td>0</td>\n",
              "      <td>0</td>\n",
              "      <td>0</td>\n",
              "      <td>0</td>\n",
              "      <td>0</td>\n",
              "      <td>0</td>\n",
              "      <td>1</td>\n",
              "      <td>0</td>\n",
              "      <td>0</td>\n",
              "      <td>1</td>\n",
              "      <td>0</td>\n",
              "      <td>0</td>\n",
              "      <td>0</td>\n",
              "      <td>0</td>\n",
              "      <td>1</td>\n",
              "      <td>0</td>\n",
              "      <td>0</td>\n",
              "      <td>1</td>\n",
              "      <td>0</td>\n",
              "      <td>0</td>\n",
              "      <td>0</td>\n",
              "      <td>0</td>\n",
              "      <td>0</td>\n",
              "      <td>0</td>\n",
              "      <td>0</td>\n",
              "      <td>0</td>\n",
              "      <td>0</td>\n",
              "      <td>0</td>\n",
              "      <td>0</td>\n",
              "      <td>0</td>\n",
              "      <td>1</td>\n",
              "      <td>0</td>\n",
              "      <td>0</td>\n",
              "      <td>0</td>\n",
              "      <td>0</td>\n",
              "      <td>0</td>\n",
              "    </tr>\n",
              "    <tr>\n",
              "      <th>756835</th>\n",
              "      <td>Fatal</td>\n",
              "      <td>0</td>\n",
              "      <td>0</td>\n",
              "      <td>0</td>\n",
              "      <td>0</td>\n",
              "      <td>0</td>\n",
              "      <td>1</td>\n",
              "      <td>0</td>\n",
              "      <td>0</td>\n",
              "      <td>0</td>\n",
              "      <td>1</td>\n",
              "      <td>0</td>\n",
              "      <td>0</td>\n",
              "      <td>0</td>\n",
              "      <td>0</td>\n",
              "      <td>0</td>\n",
              "      <td>0</td>\n",
              "      <td>0</td>\n",
              "      <td>0</td>\n",
              "      <td>0</td>\n",
              "      <td>0</td>\n",
              "      <td>1</td>\n",
              "      <td>1</td>\n",
              "      <td>0</td>\n",
              "      <td>1</td>\n",
              "      <td>0</td>\n",
              "      <td>0</td>\n",
              "      <td>0</td>\n",
              "      <td>0</td>\n",
              "      <td>0</td>\n",
              "      <td>0</td>\n",
              "      <td>0</td>\n",
              "      <td>1</td>\n",
              "      <td>0</td>\n",
              "      <td>0</td>\n",
              "      <td>1</td>\n",
              "      <td>0</td>\n",
              "      <td>0</td>\n",
              "      <td>0</td>\n",
              "      <td>0</td>\n",
              "      <td>0</td>\n",
              "      <td>1</td>\n",
              "      <td>0</td>\n",
              "      <td>1</td>\n",
              "      <td>0</td>\n",
              "      <td>0</td>\n",
              "      <td>0</td>\n",
              "      <td>0</td>\n",
              "      <td>0</td>\n",
              "      <td>0</td>\n",
              "      <td>0</td>\n",
              "      <td>0</td>\n",
              "      <td>0</td>\n",
              "      <td>0</td>\n",
              "      <td>0</td>\n",
              "      <td>0</td>\n",
              "      <td>0</td>\n",
              "      <td>0</td>\n",
              "      <td>0</td>\n",
              "      <td>1</td>\n",
              "      <td>0</td>\n",
              "      <td>0</td>\n",
              "    </tr>\n",
              "    <tr>\n",
              "      <th>1413156</th>\n",
              "      <td>Fatal</td>\n",
              "      <td>0</td>\n",
              "      <td>0</td>\n",
              "      <td>0</td>\n",
              "      <td>0</td>\n",
              "      <td>1</td>\n",
              "      <td>0</td>\n",
              "      <td>0</td>\n",
              "      <td>0</td>\n",
              "      <td>1</td>\n",
              "      <td>0</td>\n",
              "      <td>0</td>\n",
              "      <td>0</td>\n",
              "      <td>1</td>\n",
              "      <td>0</td>\n",
              "      <td>0</td>\n",
              "      <td>0</td>\n",
              "      <td>0</td>\n",
              "      <td>0</td>\n",
              "      <td>0</td>\n",
              "      <td>0</td>\n",
              "      <td>0</td>\n",
              "      <td>1</td>\n",
              "      <td>0</td>\n",
              "      <td>1</td>\n",
              "      <td>0</td>\n",
              "      <td>0</td>\n",
              "      <td>0</td>\n",
              "      <td>0</td>\n",
              "      <td>0</td>\n",
              "      <td>0</td>\n",
              "      <td>0</td>\n",
              "      <td>1</td>\n",
              "      <td>0</td>\n",
              "      <td>0</td>\n",
              "      <td>1</td>\n",
              "      <td>0</td>\n",
              "      <td>0</td>\n",
              "      <td>0</td>\n",
              "      <td>0</td>\n",
              "      <td>0</td>\n",
              "      <td>1</td>\n",
              "      <td>0</td>\n",
              "      <td>1</td>\n",
              "      <td>0</td>\n",
              "      <td>0</td>\n",
              "      <td>0</td>\n",
              "      <td>0</td>\n",
              "      <td>0</td>\n",
              "      <td>0</td>\n",
              "      <td>0</td>\n",
              "      <td>0</td>\n",
              "      <td>0</td>\n",
              "      <td>0</td>\n",
              "      <td>0</td>\n",
              "      <td>0</td>\n",
              "      <td>0</td>\n",
              "      <td>0</td>\n",
              "      <td>0</td>\n",
              "      <td>1</td>\n",
              "      <td>0</td>\n",
              "      <td>0</td>\n",
              "    </tr>\n",
              "    <tr>\n",
              "      <th>...</th>\n",
              "      <td>...</td>\n",
              "      <td>...</td>\n",
              "      <td>...</td>\n",
              "      <td>...</td>\n",
              "      <td>...</td>\n",
              "      <td>...</td>\n",
              "      <td>...</td>\n",
              "      <td>...</td>\n",
              "      <td>...</td>\n",
              "      <td>...</td>\n",
              "      <td>...</td>\n",
              "      <td>...</td>\n",
              "      <td>...</td>\n",
              "      <td>...</td>\n",
              "      <td>...</td>\n",
              "      <td>...</td>\n",
              "      <td>...</td>\n",
              "      <td>...</td>\n",
              "      <td>...</td>\n",
              "      <td>...</td>\n",
              "      <td>...</td>\n",
              "      <td>...</td>\n",
              "      <td>...</td>\n",
              "      <td>...</td>\n",
              "      <td>...</td>\n",
              "      <td>...</td>\n",
              "      <td>...</td>\n",
              "      <td>...</td>\n",
              "      <td>...</td>\n",
              "      <td>...</td>\n",
              "      <td>...</td>\n",
              "      <td>...</td>\n",
              "      <td>...</td>\n",
              "      <td>...</td>\n",
              "      <td>...</td>\n",
              "      <td>...</td>\n",
              "      <td>...</td>\n",
              "      <td>...</td>\n",
              "      <td>...</td>\n",
              "      <td>...</td>\n",
              "      <td>...</td>\n",
              "      <td>...</td>\n",
              "      <td>...</td>\n",
              "      <td>...</td>\n",
              "      <td>...</td>\n",
              "      <td>...</td>\n",
              "      <td>...</td>\n",
              "      <td>...</td>\n",
              "      <td>...</td>\n",
              "      <td>...</td>\n",
              "      <td>...</td>\n",
              "      <td>...</td>\n",
              "      <td>...</td>\n",
              "      <td>...</td>\n",
              "      <td>...</td>\n",
              "      <td>...</td>\n",
              "      <td>...</td>\n",
              "      <td>...</td>\n",
              "      <td>...</td>\n",
              "      <td>...</td>\n",
              "      <td>...</td>\n",
              "      <td>...</td>\n",
              "    </tr>\n",
              "    <tr>\n",
              "      <th>2032404</th>\n",
              "      <td>Serious</td>\n",
              "      <td>0</td>\n",
              "      <td>0</td>\n",
              "      <td>0</td>\n",
              "      <td>0</td>\n",
              "      <td>1</td>\n",
              "      <td>0</td>\n",
              "      <td>0</td>\n",
              "      <td>0</td>\n",
              "      <td>0</td>\n",
              "      <td>1</td>\n",
              "      <td>0</td>\n",
              "      <td>0</td>\n",
              "      <td>0</td>\n",
              "      <td>0</td>\n",
              "      <td>0</td>\n",
              "      <td>0</td>\n",
              "      <td>0</td>\n",
              "      <td>0</td>\n",
              "      <td>1</td>\n",
              "      <td>0</td>\n",
              "      <td>0</td>\n",
              "      <td>0</td>\n",
              "      <td>1</td>\n",
              "      <td>1</td>\n",
              "      <td>0</td>\n",
              "      <td>0</td>\n",
              "      <td>0</td>\n",
              "      <td>0</td>\n",
              "      <td>0</td>\n",
              "      <td>0</td>\n",
              "      <td>1</td>\n",
              "      <td>0</td>\n",
              "      <td>0</td>\n",
              "      <td>0</td>\n",
              "      <td>1</td>\n",
              "      <td>0</td>\n",
              "      <td>0</td>\n",
              "      <td>0</td>\n",
              "      <td>0</td>\n",
              "      <td>0</td>\n",
              "      <td>1</td>\n",
              "      <td>0</td>\n",
              "      <td>1</td>\n",
              "      <td>0</td>\n",
              "      <td>0</td>\n",
              "      <td>0</td>\n",
              "      <td>0</td>\n",
              "      <td>0</td>\n",
              "      <td>0</td>\n",
              "      <td>0</td>\n",
              "      <td>0</td>\n",
              "      <td>0</td>\n",
              "      <td>0</td>\n",
              "      <td>0</td>\n",
              "      <td>0</td>\n",
              "      <td>0</td>\n",
              "      <td>0</td>\n",
              "      <td>1</td>\n",
              "      <td>0</td>\n",
              "      <td>0</td>\n",
              "      <td>0</td>\n",
              "    </tr>\n",
              "    <tr>\n",
              "      <th>1362173</th>\n",
              "      <td>Serious</td>\n",
              "      <td>0</td>\n",
              "      <td>0</td>\n",
              "      <td>1</td>\n",
              "      <td>0</td>\n",
              "      <td>0</td>\n",
              "      <td>0</td>\n",
              "      <td>0</td>\n",
              "      <td>0</td>\n",
              "      <td>0</td>\n",
              "      <td>1</td>\n",
              "      <td>0</td>\n",
              "      <td>0</td>\n",
              "      <td>0</td>\n",
              "      <td>0</td>\n",
              "      <td>0</td>\n",
              "      <td>0</td>\n",
              "      <td>0</td>\n",
              "      <td>0</td>\n",
              "      <td>0</td>\n",
              "      <td>0</td>\n",
              "      <td>1</td>\n",
              "      <td>0</td>\n",
              "      <td>1</td>\n",
              "      <td>1</td>\n",
              "      <td>0</td>\n",
              "      <td>0</td>\n",
              "      <td>0</td>\n",
              "      <td>0</td>\n",
              "      <td>0</td>\n",
              "      <td>0</td>\n",
              "      <td>0</td>\n",
              "      <td>1</td>\n",
              "      <td>0</td>\n",
              "      <td>0</td>\n",
              "      <td>1</td>\n",
              "      <td>0</td>\n",
              "      <td>0</td>\n",
              "      <td>0</td>\n",
              "      <td>0</td>\n",
              "      <td>0</td>\n",
              "      <td>1</td>\n",
              "      <td>0</td>\n",
              "      <td>1</td>\n",
              "      <td>0</td>\n",
              "      <td>0</td>\n",
              "      <td>0</td>\n",
              "      <td>0</td>\n",
              "      <td>0</td>\n",
              "      <td>0</td>\n",
              "      <td>0</td>\n",
              "      <td>0</td>\n",
              "      <td>0</td>\n",
              "      <td>1</td>\n",
              "      <td>0</td>\n",
              "      <td>0</td>\n",
              "      <td>0</td>\n",
              "      <td>0</td>\n",
              "      <td>0</td>\n",
              "      <td>0</td>\n",
              "      <td>0</td>\n",
              "      <td>0</td>\n",
              "    </tr>\n",
              "    <tr>\n",
              "      <th>940885</th>\n",
              "      <td>Serious</td>\n",
              "      <td>0</td>\n",
              "      <td>0</td>\n",
              "      <td>0</td>\n",
              "      <td>1</td>\n",
              "      <td>0</td>\n",
              "      <td>0</td>\n",
              "      <td>0</td>\n",
              "      <td>0</td>\n",
              "      <td>0</td>\n",
              "      <td>1</td>\n",
              "      <td>0</td>\n",
              "      <td>0</td>\n",
              "      <td>0</td>\n",
              "      <td>0</td>\n",
              "      <td>0</td>\n",
              "      <td>0</td>\n",
              "      <td>0</td>\n",
              "      <td>0</td>\n",
              "      <td>0</td>\n",
              "      <td>0</td>\n",
              "      <td>1</td>\n",
              "      <td>0</td>\n",
              "      <td>1</td>\n",
              "      <td>1</td>\n",
              "      <td>0</td>\n",
              "      <td>0</td>\n",
              "      <td>0</td>\n",
              "      <td>0</td>\n",
              "      <td>0</td>\n",
              "      <td>0</td>\n",
              "      <td>1</td>\n",
              "      <td>0</td>\n",
              "      <td>0</td>\n",
              "      <td>0</td>\n",
              "      <td>1</td>\n",
              "      <td>0</td>\n",
              "      <td>0</td>\n",
              "      <td>0</td>\n",
              "      <td>0</td>\n",
              "      <td>0</td>\n",
              "      <td>1</td>\n",
              "      <td>0</td>\n",
              "      <td>1</td>\n",
              "      <td>0</td>\n",
              "      <td>0</td>\n",
              "      <td>0</td>\n",
              "      <td>0</td>\n",
              "      <td>0</td>\n",
              "      <td>0</td>\n",
              "      <td>0</td>\n",
              "      <td>0</td>\n",
              "      <td>1</td>\n",
              "      <td>0</td>\n",
              "      <td>0</td>\n",
              "      <td>0</td>\n",
              "      <td>0</td>\n",
              "      <td>0</td>\n",
              "      <td>0</td>\n",
              "      <td>0</td>\n",
              "      <td>0</td>\n",
              "      <td>0</td>\n",
              "    </tr>\n",
              "    <tr>\n",
              "      <th>1049072</th>\n",
              "      <td>Serious</td>\n",
              "      <td>0</td>\n",
              "      <td>0</td>\n",
              "      <td>0</td>\n",
              "      <td>0</td>\n",
              "      <td>1</td>\n",
              "      <td>0</td>\n",
              "      <td>0</td>\n",
              "      <td>0</td>\n",
              "      <td>0</td>\n",
              "      <td>1</td>\n",
              "      <td>0</td>\n",
              "      <td>0</td>\n",
              "      <td>0</td>\n",
              "      <td>0</td>\n",
              "      <td>0</td>\n",
              "      <td>0</td>\n",
              "      <td>0</td>\n",
              "      <td>0</td>\n",
              "      <td>0</td>\n",
              "      <td>0</td>\n",
              "      <td>1</td>\n",
              "      <td>0</td>\n",
              "      <td>1</td>\n",
              "      <td>1</td>\n",
              "      <td>0</td>\n",
              "      <td>0</td>\n",
              "      <td>0</td>\n",
              "      <td>0</td>\n",
              "      <td>0</td>\n",
              "      <td>0</td>\n",
              "      <td>0</td>\n",
              "      <td>1</td>\n",
              "      <td>0</td>\n",
              "      <td>0</td>\n",
              "      <td>0</td>\n",
              "      <td>0</td>\n",
              "      <td>0</td>\n",
              "      <td>1</td>\n",
              "      <td>0</td>\n",
              "      <td>1</td>\n",
              "      <td>0</td>\n",
              "      <td>0</td>\n",
              "      <td>1</td>\n",
              "      <td>0</td>\n",
              "      <td>0</td>\n",
              "      <td>0</td>\n",
              "      <td>0</td>\n",
              "      <td>0</td>\n",
              "      <td>0</td>\n",
              "      <td>0</td>\n",
              "      <td>0</td>\n",
              "      <td>1</td>\n",
              "      <td>0</td>\n",
              "      <td>0</td>\n",
              "      <td>0</td>\n",
              "      <td>0</td>\n",
              "      <td>0</td>\n",
              "      <td>0</td>\n",
              "      <td>0</td>\n",
              "      <td>0</td>\n",
              "      <td>0</td>\n",
              "    </tr>\n",
              "    <tr>\n",
              "      <th>1986559</th>\n",
              "      <td>Serious</td>\n",
              "      <td>0</td>\n",
              "      <td>0</td>\n",
              "      <td>0</td>\n",
              "      <td>1</td>\n",
              "      <td>0</td>\n",
              "      <td>0</td>\n",
              "      <td>0</td>\n",
              "      <td>0</td>\n",
              "      <td>0</td>\n",
              "      <td>1</td>\n",
              "      <td>0</td>\n",
              "      <td>0</td>\n",
              "      <td>0</td>\n",
              "      <td>0</td>\n",
              "      <td>0</td>\n",
              "      <td>0</td>\n",
              "      <td>0</td>\n",
              "      <td>0</td>\n",
              "      <td>0</td>\n",
              "      <td>0</td>\n",
              "      <td>1</td>\n",
              "      <td>1</td>\n",
              "      <td>0</td>\n",
              "      <td>1</td>\n",
              "      <td>0</td>\n",
              "      <td>0</td>\n",
              "      <td>0</td>\n",
              "      <td>0</td>\n",
              "      <td>0</td>\n",
              "      <td>0</td>\n",
              "      <td>0</td>\n",
              "      <td>1</td>\n",
              "      <td>0</td>\n",
              "      <td>1</td>\n",
              "      <td>0</td>\n",
              "      <td>0</td>\n",
              "      <td>0</td>\n",
              "      <td>0</td>\n",
              "      <td>0</td>\n",
              "      <td>0</td>\n",
              "      <td>1</td>\n",
              "      <td>0</td>\n",
              "      <td>1</td>\n",
              "      <td>0</td>\n",
              "      <td>0</td>\n",
              "      <td>0</td>\n",
              "      <td>0</td>\n",
              "      <td>0</td>\n",
              "      <td>0</td>\n",
              "      <td>0</td>\n",
              "      <td>0</td>\n",
              "      <td>0</td>\n",
              "      <td>0</td>\n",
              "      <td>1</td>\n",
              "      <td>0</td>\n",
              "      <td>0</td>\n",
              "      <td>0</td>\n",
              "      <td>0</td>\n",
              "      <td>0</td>\n",
              "      <td>0</td>\n",
              "      <td>0</td>\n",
              "    </tr>\n",
              "  </tbody>\n",
              "</table>\n",
              "<p>23931 rows × 62 columns</p>\n",
              "</div>"
            ],
            "text/plain": [
              "        Accident_Severity  Friday  Monday  Saturday  Sunday  ...  8  9  10  11  12\n",
              "2046236             Fatal       0       0         0       1  ...  1  0   0   0   0\n",
              "263725              Fatal       0       0         0       0  ...  0  0   1   0   0\n",
              "1471612             Fatal       0       0         0       0  ...  0  0   0   0   0\n",
              "756835              Fatal       0       0         0       0  ...  0  0   1   0   0\n",
              "1413156             Fatal       0       0         0       0  ...  0  0   1   0   0\n",
              "...                   ...     ...     ...       ...     ...  ... .. ..  ..  ..  ..\n",
              "2032404           Serious       0       0         0       0  ...  0  1   0   0   0\n",
              "1362173           Serious       0       0         1       0  ...  0  0   0   0   0\n",
              "940885            Serious       0       0         0       1  ...  0  0   0   0   0\n",
              "1049072           Serious       0       0         0       0  ...  0  0   0   0   0\n",
              "1986559           Serious       0       0         0       1  ...  0  0   0   0   0\n",
              "\n",
              "[23931 rows x 62 columns]"
            ]
          },
          "metadata": {
            "tags": []
          },
          "execution_count": 146
        }
      ]
    },
    {
      "cell_type": "markdown",
      "metadata": {
        "id": "-s_V8gkO65S5"
      },
      "source": [
        "## Modelling"
      ]
    },
    {
      "cell_type": "code",
      "metadata": {
        "id": "XyXxPouGbiTK"
      },
      "source": [
        "# To be used for model evaluation\n",
        "from sklearn.metrics import jaccard_similarity_score\n",
        "from sklearn.metrics import f1_score\n",
        "from sklearn.metrics import log_loss"
      ],
      "execution_count": 147,
      "outputs": []
    },
    {
      "cell_type": "code",
      "metadata": {
        "id": "RIEprrxzbiTP"
      },
      "source": [
        "# Create sets for dependant and independant sets \n",
        "X = pd.concat([Day, jc, jd, light, surface, road, speed, area, weather, month],axis = 1, sort = False)\n",
        "y = df_bal['Accident_Severity'].values"
      ],
      "execution_count": 148,
      "outputs": []
    },
    {
      "cell_type": "code",
      "metadata": {
        "id": "3IKSLS2n1HGW",
        "outputId": "44470324-4db6-43b2-8ec6-83e1c850c2b5",
        "colab": {
          "base_uri": "https://localhost:8080/",
          "height": 51
        }
      },
      "source": [
        "# Create sets for test and training sets \n",
        "\n",
        "from sklearn.model_selection import train_test_split\n",
        "X_train, X_test, y_train, y_test = train_test_split( X, y, test_size=0.3, random_state=4)\n",
        "print ('Train set:', X_train.shape,  y_train.shape)\n",
        "print ('Test set:', X_test.shape,  y_test.shape)"
      ],
      "execution_count": 149,
      "outputs": [
        {
          "output_type": "stream",
          "text": [
            "Train set: (16751, 61) (16751,)\n",
            "Test set: (7180, 61) (7180,)\n"
          ],
          "name": "stdout"
        }
      ]
    },
    {
      "cell_type": "markdown",
      "metadata": {
        "id": "rR9WmPK5biTM"
      },
      "source": [
        "# SVM"
      ]
    },
    {
      "cell_type": "code",
      "metadata": {
        "id": "-ef-DgsmbiTW",
        "outputId": "d5c47460-716d-461f-f8bf-509c03113b6b",
        "colab": {
          "base_uri": "https://localhost:8080/",
          "height": 85
        }
      },
      "source": [
        "from sklearn import svm\n",
        "acc_svm = svm.SVC(kernel='rbf')\n",
        "acc_svm.fit(X_train, y_train) "
      ],
      "execution_count": 150,
      "outputs": [
        {
          "output_type": "execute_result",
          "data": {
            "text/plain": [
              "SVC(C=1.0, break_ties=False, cache_size=200, class_weight=None, coef0=0.0,\n",
              "    decision_function_shape='ovr', degree=3, gamma='scale', kernel='rbf',\n",
              "    max_iter=-1, probability=False, random_state=None, shrinking=True,\n",
              "    tol=0.001, verbose=False)"
            ]
          },
          "metadata": {
            "tags": []
          },
          "execution_count": 150
        }
      ]
    },
    {
      "cell_type": "code",
      "metadata": {
        "id": "_E7xlaOCbiTY",
        "outputId": "dfd37627-c328-43fe-9f84-1cdf722a09fe",
        "colab": {
          "base_uri": "https://localhost:8080/",
          "height": 85
        }
      },
      "source": [
        "yhat = acc_svm.predict(X_test)\n",
        "print('sample of predicted values',yhat[0:10])\n",
        "print('corresponding actual values',y_test[0:10])"
      ],
      "execution_count": 151,
      "outputs": [
        {
          "output_type": "stream",
          "text": [
            "sample of predicted values ['Serious' 'Fatal' 'Fatal' 'Fatal' 'Slight' 'Slight' 'Slight' 'Fatal'\n",
            " 'Fatal' 'Fatal']\n",
            "corresponding actual values ['Serious' 'Slight' 'Fatal' 'Slight' 'Slight' 'Slight' 'Serious' 'Fatal'\n",
            " 'Fatal' 'Fatal']\n"
          ],
          "name": "stdout"
        }
      ]
    },
    {
      "cell_type": "code",
      "metadata": {
        "id": "VsojKF1DbiTa"
      },
      "source": [
        "from sklearn.metrics import classification_report, confusion_matrix\n",
        "import itertools"
      ],
      "execution_count": 152,
      "outputs": []
    },
    {
      "cell_type": "code",
      "metadata": {
        "id": "wBjj6nyPbiTb"
      },
      "source": [
        "def plot_confusion_matrix(cm, classes,\n",
        "                          normalize=False,\n",
        "                          title='Confusion matrix',\n",
        "                          cmap=plt.cm.Blues):\n",
        "    \"\"\"\n",
        "    This function prints and plots the confusion matrix.\n",
        "    Normalization can be applied by setting `normalize=True`.\n",
        "    \"\"\"\n",
        "    if normalize:\n",
        "        cm = cm.astype('float') / cm.sum(axis=1)[:, np.newaxis]\n",
        "        print(\"Normalized confusion matrix\")\n",
        "    else:\n",
        "        print('Confusion matrix, without normalization')\n",
        "\n",
        "    print(cm)\n",
        "\n",
        "    plt.imshow(cm, interpolation='nearest', cmap=cmap)\n",
        "    plt.title(title)\n",
        "    plt.colorbar()\n",
        "    tick_marks = np.arange(len(classes))\n",
        "    plt.xticks(tick_marks, classes, rotation=45)\n",
        "    plt.yticks(tick_marks, classes)\n",
        "\n",
        "    fmt = '.2f' if normalize else 'd'\n",
        "    thresh = cm.max() / 2.\n",
        "    for i, j in itertools.product(range(cm.shape[0]), range(cm.shape[1])):\n",
        "        plt.text(j, i, format(cm[i, j], fmt),\n",
        "                 horizontalalignment=\"center\",\n",
        "                 color=\"white\" if cm[i, j] > thresh else \"black\")\n",
        "\n",
        "    plt.tight_layout()\n",
        "    plt.ylabel('True label')\n",
        "    plt.xlabel('Predicted label')"
      ],
      "execution_count": 153,
      "outputs": []
    },
    {
      "cell_type": "code",
      "metadata": {
        "id": "xEv82qPpbiTe",
        "outputId": "e4895c1a-f2aa-45c2-8624-722028faf6cf",
        "colab": {
          "base_uri": "https://localhost:8080/",
          "height": 549
        }
      },
      "source": [
        "# Compute confusion matrix\n",
        "cnf_matrix = confusion_matrix(y_test, yhat)\n",
        "np.set_printoptions(precision=2)\n",
        "\n",
        "print (classification_report(y_test, yhat))\n",
        "\n",
        "# Plot non-normalized confusion matrix\n",
        "plt.figure()\n",
        "plot_confusion_matrix(cnf_matrix, classes=['Fatal','Serious','Slight'],normalize= False,  title='Confusion matrix')"
      ],
      "execution_count": 154,
      "outputs": [
        {
          "output_type": "stream",
          "text": [
            "              precision    recall  f1-score   support\n",
            "\n",
            "       Fatal       0.69      0.79      0.74      2474\n",
            "     Serious       0.45      0.39      0.42      2318\n",
            "      Slight       0.51      0.49      0.50      2388\n",
            "\n",
            "    accuracy                           0.56      7180\n",
            "   macro avg       0.55      0.56      0.55      7180\n",
            "weighted avg       0.55      0.56      0.55      7180\n",
            "\n",
            "Confusion matrix, without normalization\n",
            "[[1948  285  241]\n",
            " [ 504  908  906]\n",
            " [ 368  841 1179]]\n"
          ],
          "name": "stdout"
        },
        {
          "output_type": "display_data",
          "data": {
            "image/png": "[encoded data removed]",
            "text/plain": [
              "<Figure size 432x288 with 2 Axes>"
            ]
          },
          "metadata": {
            "tags": [],
            "needs_background": "light"
          }
        }
      ]
    },
    {
      "cell_type": "markdown",
      "metadata": {
        "id": "5tN9zzgnbiTk"
      },
      "source": [
        "# K Nearest Neighbor(KNN)"
      ]
    },
    {
      "cell_type": "code",
      "metadata": {
        "id": "5pWQYd4Dv4Ym",
        "outputId": "002ffd1a-3909-4800-ce2b-531edefdfe92",
        "colab": {
          "base_uri": "https://localhost:8080/",
          "height": 51
        }
      },
      "source": [
        "from sklearn.neighbors import KNeighborsClassifier\n",
        "from sklearn import metrics\n",
        "\n",
        "Ks = 12\n",
        "mean_acc = np.zeros((Ks-1))\n",
        "std_acc = np.zeros((Ks-1))\n",
        "ConfustionMtx=[];\n",
        "for n in range(1,Ks):\n",
        "    neigh = KNeighborsClassifier(n_neighbors=n).fit(X_train, y_train)\n",
        "    yhat = neigh.predict(X_test)\n",
        "    mean_acc[n-1] = metrics.accuracy_score(y_test, yhat)\n",
        "    std_acc[n-1] = np.std(yhat==y_test)/np.sqrt(yhat.shape[0])\n",
        "print(mean_acc)\n",
        "print( \"The best accuracy was with\", mean_acc.max(), \"with k=\", mean_acc.argmax()+1)"
      ],
      "execution_count": 155,
      "outputs": [
        {
          "output_type": "stream",
          "text": [
            "[0.59 0.58 0.59 0.59 0.58 0.58 0.58 0.57 0.57 0.58 0.57]\n",
            "The best accuracy was with 0.5940111420612814 with k= 1\n"
          ],
          "name": "stdout"
        }
      ]
    },
    {
      "cell_type": "code",
      "metadata": {
        "id": "UdqQ_P8sbiTn",
        "outputId": "e312b6ec-aab1-4a81-ac69-3c5a75d45761",
        "colab": {
          "base_uri": "https://localhost:8080/",
          "height": 314
        }
      },
      "source": [
        "# finding the best K for KNN modelling\n",
        "\n",
        "plt.plot(range(1,Ks),mean_acc)\n",
        "plt.fill_between(range(1,Ks),mean_acc - 1 * std_acc,mean_acc + 1 * std_acc, alpha=0.10)\n",
        "plt.legend(('Accuracy ', '+/- 3xstd'))\n",
        "plt.ylabel('Accuracy ')\n",
        "plt.xlabel('Number of Neighbors (K)')\n",
        "plt.tight_layout()\n",
        "plt.show()\n",
        "\n",
        "print( \"The best accuracy was with\", mean_acc.max(), \"with k=\", mean_acc.argmax()+1) \n",
        "\n"
      ],
      "execution_count": 156,
      "outputs": [
        {
          "output_type": "display_data",
          "data": {
            "image/png": "[encoded data removed]",
            "text/plain": [
              "<Figure size 432x288 with 1 Axes>"
            ]
          },
          "metadata": {
            "tags": [],
            "needs_background": "light"
          }
        },
        {
          "output_type": "stream",
          "text": [
            "The best accuracy was with 0.5940111420612814 with k= 1\n"
          ],
          "name": "stdout"
        }
      ]
    },
    {
      "cell_type": "code",
      "metadata": {
        "id": "DAeEApLrgTgt",
        "outputId": "f9d6b128-633a-44e0-a9fa-0164bc318510",
        "colab": {
          "base_uri": "https://localhost:8080/",
          "height": 85
        }
      },
      "source": [
        "# Fitting the model using best K\n",
        "neigh = KNeighborsClassifier(n_neighbors=mean_acc.argmax()+1).fit(X_train, y_train)\n",
        "yhat = neigh.predict(X_test)\n",
        "print('sample of predicted values',yhat[0:10])\n",
        "print('corresponding actual values',y_test[0:10])"
      ],
      "execution_count": 157,
      "outputs": [
        {
          "output_type": "stream",
          "text": [
            "sample of predicted values ['Serious' 'Fatal' 'Fatal' 'Slight' 'Slight' 'Serious' 'Slight' 'Fatal'\n",
            " 'Fatal' 'Fatal']\n",
            "corresponding actual values ['Serious' 'Slight' 'Fatal' 'Slight' 'Slight' 'Slight' 'Serious' 'Fatal'\n",
            " 'Fatal' 'Fatal']\n"
          ],
          "name": "stdout"
        }
      ]
    },
    {
      "cell_type": "markdown",
      "metadata": {
        "id": "rabIRDI0biTq"
      },
      "source": [
        "Decision Tree"
      ]
    },
    {
      "cell_type": "code",
      "metadata": {
        "id": "8MNGNu7XbiTq",
        "outputId": "d16f82fc-5dc6-48e5-9066-e8bb778a32e4",
        "colab": {
          "base_uri": "https://localhost:8080/",
          "height": 85
        }
      },
      "source": [
        "from sklearn.tree import DecisionTreeClassifier\n",
        "import sklearn\n",
        "import matplotlib.image as mpimg\n",
        "from sklearn import tree\n",
        "\n",
        "modeltree = DecisionTreeClassifier(criterion=\"entropy\")\n",
        "modeltree.fit(X_train, y_train)\n",
        "\n",
        "predTree = modeltree.predict(X_test)\n",
        "print('sample of predicted values',predTree[0:10])\n",
        "print('corresponding actual values',y_test[0:10])\n"
      ],
      "execution_count": 158,
      "outputs": [
        {
          "output_type": "stream",
          "text": [
            "sample of predicted values ['Serious' 'Fatal' 'Fatal' 'Slight' 'Slight' 'Slight' 'Slight' 'Fatal'\n",
            " 'Fatal' 'Fatal']\n",
            "corresponding actual values ['Serious' 'Slight' 'Fatal' 'Slight' 'Slight' 'Slight' 'Serious' 'Fatal'\n",
            " 'Fatal' 'Fatal']\n"
          ],
          "name": "stdout"
        }
      ]
    },
    {
      "cell_type": "markdown",
      "metadata": {
        "id": "d8ym_NtNbiTv"
      },
      "source": [
        "# LR"
      ]
    },
    {
      "cell_type": "code",
      "metadata": {
        "id": "BOJzhV-WbiTv"
      },
      "source": [
        "from sklearn.linear_model import LogisticRegression\n",
        "LR = LogisticRegression(C=0.01, solver=\"liblinear\").fit(X_train,y_train)"
      ],
      "execution_count": 159,
      "outputs": []
    },
    {
      "cell_type": "code",
      "metadata": {
        "id": "2D588A2jbiTx",
        "outputId": "0756dd68-0437-4418-850d-9564634ba38c",
        "colab": {
          "base_uri": "https://localhost:8080/",
          "height": 85
        }
      },
      "source": [
        "yhat = LR.predict(X_test)\n",
        "print('sample of predicted values',yhat[0:10])\n",
        "print('corresponding actual values',y_test[0:10])\n"
      ],
      "execution_count": 160,
      "outputs": [
        {
          "output_type": "stream",
          "text": [
            "sample of predicted values ['Fatal' 'Serious' 'Fatal' 'Slight' 'Slight' 'Slight' 'Slight' 'Slight'\n",
            " 'Serious' 'Fatal']\n",
            "corresponding actual values ['Serious' 'Slight' 'Fatal' 'Slight' 'Slight' 'Slight' 'Serious' 'Fatal'\n",
            " 'Fatal' 'Fatal']\n"
          ],
          "name": "stdout"
        }
      ]
    },
    {
      "cell_type": "markdown",
      "metadata": {
        "id": "SfNnctiR8vko"
      },
      "source": [
        "# Comparison and evaluation between different model algorithms"
      ]
    },
    {
      "cell_type": "code",
      "metadata": {
        "id": "NvvljpxcbiT4",
        "outputId": "4812a9cc-75c2-4015-c8e7-f9a4d9f5c7c0",
        "colab": {
          "base_uri": "https://localhost:8080/",
          "height": 329
        }
      },
      "source": [
        "#KNN evaluation\n",
        "knn_pred=neigh.predict(X_test)\n",
        "jcknn=jaccard_similarity_score(y_test, knn_pred)\n",
        "fsknn=f1_score(y_test, knn_pred, average='weighted')\n",
        "\n",
        "#Decision Tree evaluation\n",
        "tree_pred=modeltree.predict(X_test)\n",
        "jcdt=jaccard_similarity_score(y_test, tree_pred)\n",
        "fsdt=f1_score(y_test, tree_pred, average='weighted')\n",
        "\n",
        "#SVM evaluation\n",
        "svm_pred=acc_svm.predict(X_test)\n",
        "jcsvm=jaccard_similarity_score(y_test, svm_pred)\n",
        "fssvm=f1_score(y_test, svm_pred, average='weighted')\n",
        "\n",
        "#Logistic regrission evaluation\n",
        "log_pred=LR.predict(X_test)\n",
        "proba=LR.predict_proba(X_test)\n",
        "jclr=jaccard_similarity_score(y_test, log_pred)\n",
        "fslr=f1_score(y_test, log_pred, average='weighted')  \n",
        "lllr=log_loss(y_test, proba)\n",
        "\n",
        "#build 3 columns\n",
        "list_jc = [jcknn, jcdt, jcsvm, jclr]\n",
        "list_fs = [fsknn, fsdt, fssvm, fslr]\n",
        "list_ll = ['NA', 'NA', 'NA', lllr]\n",
        "\n",
        "\n",
        "\n",
        "# create report dataframe\n",
        "df = pd.DataFrame(list_jc, index=['KNN','Decision Tree','SVM','Logistic Regression'])\n",
        "df.columns = ['Jaccard']\n",
        "df.insert(loc=1, column='F1-score', value=list_fs)\n",
        "df.insert(loc=2, column='LogLoss', value=list_ll)\n",
        "df.columns.name = 'Algorithm'\n",
        "df"
      ],
      "execution_count": 161,
      "outputs": [
        {
          "output_type": "stream",
          "text": [
            "/usr/local/lib/python3.6/dist-packages/sklearn/metrics/_classification.py:664: FutureWarning: jaccard_similarity_score has been deprecated and replaced with jaccard_score. It will be removed in version 0.23. This implementation has surprising behavior for binary and multiclass classification tasks.\n",
            "  FutureWarning)\n",
            "/usr/local/lib/python3.6/dist-packages/sklearn/metrics/_classification.py:664: FutureWarning: jaccard_similarity_score has been deprecated and replaced with jaccard_score. It will be removed in version 0.23. This implementation has surprising behavior for binary and multiclass classification tasks.\n",
            "  FutureWarning)\n",
            "/usr/local/lib/python3.6/dist-packages/sklearn/metrics/_classification.py:664: FutureWarning: jaccard_similarity_score has been deprecated and replaced with jaccard_score. It will be removed in version 0.23. This implementation has surprising behavior for binary and multiclass classification tasks.\n",
            "  FutureWarning)\n",
            "/usr/local/lib/python3.6/dist-packages/sklearn/metrics/_classification.py:664: FutureWarning: jaccard_similarity_score has been deprecated and replaced with jaccard_score. It will be removed in version 0.23. This implementation has surprising behavior for binary and multiclass classification tasks.\n",
            "  FutureWarning)\n"
          ],
          "name": "stderr"
        },
        {
          "output_type": "execute_result",
          "data": {
            "text/html": [
              "<div>\n",
              "<style scoped>\n",
              "    .dataframe tbody tr th:only-of-type {\n",
              "        vertical-align: middle;\n",
              "    }\n",
              "\n",
              "    .dataframe tbody tr th {\n",
              "        vertical-align: top;\n",
              "    }\n",
              "\n",
              "    .dataframe thead th {\n",
              "        text-align: right;\n",
              "    }\n",
              "</style>\n",
              "<table border=\"1\" class=\"dataframe\">\n",
              "  <thead>\n",
              "    <tr style=\"text-align: right;\">\n",
              "      <th>Algorithm</th>\n",
              "      <th>Jaccard</th>\n",
              "      <th>F1-score</th>\n",
              "      <th>LogLoss</th>\n",
              "    </tr>\n",
              "  </thead>\n",
              "  <tbody>\n",
              "    <tr>\n",
              "      <th>KNN</th>\n",
              "      <td>0.594011</td>\n",
              "      <td>0.585708</td>\n",
              "      <td>NA</td>\n",
              "    </tr>\n",
              "    <tr>\n",
              "      <th>Decision Tree</th>\n",
              "      <td>0.638579</td>\n",
              "      <td>0.626617</td>\n",
              "      <td>NA</td>\n",
              "    </tr>\n",
              "    <tr>\n",
              "      <th>SVM</th>\n",
              "      <td>0.561978</td>\n",
              "      <td>0.554658</td>\n",
              "      <td>NA</td>\n",
              "    </tr>\n",
              "    <tr>\n",
              "      <th>Logistic Regression</th>\n",
              "      <td>0.449304</td>\n",
              "      <td>0.439527</td>\n",
              "      <td>1.03921</td>\n",
              "    </tr>\n",
              "  </tbody>\n",
              "</table>\n",
              "</div>"
            ],
            "text/plain": [
              "Algorithm             Jaccard  F1-score  LogLoss\n",
              "KNN                  0.594011  0.585708       NA\n",
              "Decision Tree        0.638579  0.626617       NA\n",
              "SVM                  0.561978  0.554658       NA\n",
              "Logistic Regression  0.449304  0.439527  1.03921"
            ]
          },
          "metadata": {
            "tags": []
          },
          "execution_count": 161
        }
      ]
    },
    {
      "cell_type": "code",
      "metadata": {
        "id": "STjoTgRmbiT5"
      },
      "source": [
        ""
      ],
      "execution_count": 161,
      "outputs": []
    }
  ]
}